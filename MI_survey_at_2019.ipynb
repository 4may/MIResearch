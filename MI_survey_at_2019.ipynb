{
  "nbformat": 4,
  "nbformat_minor": 0,
  "metadata": {
    "colab": {
      "name": "Untitled19.ipynb",
      "provenance": [],
      "collapsed_sections": [],
      "authorship_tag": "ABX9TyMSuUVDZJnrHQf+g5rX2Vzd",
      "include_colab_link": true
    },
    "kernelspec": {
      "name": "python3",
      "display_name": "Python 3"
    }
  },
  "cells": [
    {
      "cell_type": "markdown",
      "metadata": {
        "id": "view-in-github",
        "colab_type": "text"
      },
      "source": [
        "<a href=\"https://colab.research.google.com/github/4may/MIResearch/blob/master/MI_survey_at_2019.ipynb\" target=\"_parent\"><img src=\"https://colab.research.google.com/assets/colab-badge.svg\" alt=\"Open In Colab\"/></a>"
      ]
    },
    {
      "cell_type": "markdown",
      "metadata": {
        "id": "rnONCdNSWNjE",
        "colab_type": "text"
      },
      "source": [
        "# MIの最新技術調査\n",
        "\n",
        "右も左もわからん状態でやり始めると、何やってるのかよくわからん・・・となる。特に、ドメイン知識がない分野だと以下のstep1とstep4がお手上げ状態。\n",
        "\n",
        "1. 課題を決める\n",
        "2. 解決方法を決める\n",
        "3. 解く\n",
        "4. 評価\n",
        "\n",
        "そこで、いったんsurveyを読むことで、MIにはどんな課題があって、どんな方法が好まれてて、何を基準に評価したらいいのか、みたいなことを知る。\n",
        "\n",
        "[Recent advances and applications of machine learning in solid-\n",
        "state materials science](https://www.nature.com/articles/s41524-019-0221-0)\n",
        "\n",
        "2019年に提出されたやつ。読むぞ。参考文献の数500はヤバイ笑"
      ]
    },
    {
      "cell_type": "markdown",
      "metadata": {
        "id": "HQNWNcbCbpKS",
        "colab_type": "text"
      },
      "source": [
        "## Introduction\n",
        "\n",
        "* 従来の材料開発では、**人の手による実験**が行われていた\n",
        "  * 材料開発の実験は、**コスパが悪い**。投資した時間やお金に対して、調べられる材料の数が少ない。\n",
        "  * 一部には、人の**カン**頼みなところがあった。\n",
        "* PCを使う材料開発手法の登場\n",
        "  * **DFT(Density Functional Theory)**\n",
        "  * monte calro\n",
        "  * molecular dynamics\n",
        "  * これらのおかげで、材料開発はいくらかコスパが良くなった。\n",
        "* PCの性能発展により、high-throughput計算が可能になった。\n",
        "  * high-throughput計算とは、高度にシステム化された実験環境において、短期間に大量の化合物を評価して、新規の化合物を発見する手法のこと。大体、2,3ヶ月かけて、数万から数十万単位の評価を行う。\n",
        "  * [参考](https://www.jstage.jst.go.jp/article/kagakutoseibutsu1962/38/4/38_4_264/_pdf)\n",
        "* **機械学習アルゴリズム**の登場\n",
        "  * 材料開発での応用事例\n",
        "    * 安定な材料の予測。特に、熱電、光電材料\n",
        "    * 材料特性の計算\n",
        "    * 第一原理計算の高速化\n",
        "    * リチウムイオン電池\n",
        "    * 原子シミュレーション\n",
        "* MIにおける機械学習の利用は**まだ始まったばかり**\n",
        "  * 以下のようなことが原因で、機械学習の良さを引き出せていない\n",
        "    * 材料データの数が少ない\n",
        "    * 材料データのプロパティ数(特徴量)の数が少ない\n",
        "* 機械学習アルゴリズムは、**ブラックボックス**。なぜ上手くいってるかが良くわからない。\n",
        "* 特に、固体材料を中心に調べていく"
      ]
    },
    {
      "cell_type": "markdown",
      "metadata": {
        "id": "XxIHIiQbtZDl",
        "colab_type": "text"
      },
      "source": [
        "## 機械学習の基本原理\n",
        "\n",
        "* MIでは、**教師あり学習**を使うことが多い\n",
        "* MIにおけるcross validation\n",
        "  * leave-one-out CVは避けるべき。構造と特性の関係を評価するには不十分なため。\n",
        "  * 未知の材料探索においては、k-fold CVも**楽観的すぎる評価**となるのでいまいち。\n",
        "  * [**leave-one-cluster-out CV**](https://pubs.rsc.org/en/content/articlelanding/2018/me/c8me00012c#!divAbstract)は、material scienceのために開発された評価方法\n",
        "    * 機械学習モデルが、未知の材料データをどれだけ推定できるかを計る指標\n",
        "* leave-one-cluster-outについて\n",
        "  * アルゴリズム\n",
        "\n",
        "  1. 材料データをk個のクラスタに分割する\n",
        "  2. 1個のクラスタを予測のために除外する\n",
        "  3. 残りのk-1個のクラスタを使って学習する\n",
        "  4. step2のクラスタを使って予測する\n",
        "\n",
        "  step1のkの決め方は以下の通り。\n",
        "  \n",
        "  * kを決めるためのアルゴリズム\n",
        "\n",
        "  1. 入力データをnormalizeする\n",
        "  2. 以下、n回繰り返す.nはCVの回数\n",
        "    \n",
        "    * k-meansのセントロイド初期化が上手くいくように、データをシャッフルする\n",
        "    * k-meansをk=2からk=10まで行う。10としたのは、k fold CVにおいて、10が上限値とされることが多いため。\n",
        "    * 以下、k個に分かれているクラスタごとに以下を行う。どのkが一番良い結果を生むか調べる。\n",
        "\n",
        "      * 任意のクラスタを一つ、データから除外する\n",
        "      * 残りのk-1個のクラスタから成るデータを使って、学習する\n",
        "      * 除外したクラスタを使って、予測する\n",
        "      * 各k毎に結果の平均値と標準偏差をまとめる\n",
        "\n",
        "  * なお、k-meansでいろんなkを試す代わりに、X-meansやG-meansを使って最適なkを計算しても良い。この場合、2-1 ~ 2.3.4のk-meansを使う複数の処理を一つの処理に置き換えられることになる。"
      ]
    },
    {
      "cell_type": "markdown",
      "metadata": {
        "id": "bIEwqaK2zEOc",
        "colab_type": "text"
      },
      "source": [
        "### Databases\n",
        "\n",
        "* データを公平に扱うのが大事\n",
        "  * 4つの原則\n",
        "\n",
        "  1. findability\n",
        "  2. accessibility\n",
        "  3. interoperability(相互運用性) : いろんな企業、機関が使える。\n",
        "  4. repurposability(再利用性) : 別の目的(材料開発以外)に使える。\n",
        "\n",
        "* メタ情報やフォーマットを揃えるのが理想\n",
        "* 上手くいかなかった例も共有しよう\n",
        "  * 機械学習の分野では、上手くいったパターンのみが公開されがち。\n",
        "  * 失敗は成功のもと！\n",
        "  * 車輪の再失敗を防ぐためにも、袋小路は見つけたら教えよう"
      ]
    },
    {
      "cell_type": "markdown",
      "metadata": {
        "id": "EaYAodUi1ePh",
        "colab_type": "text"
      },
      "source": [
        "### Features\n",
        "\n",
        "* 材料開発における特徴量とは、**異なる原子や結晶構造を区別するための情報**である\n",
        "* **記述子(descriptors)** : 化学式を数値に変換したもの。この数値は材料特性を踏まえて作成される。(ただ、1から順に番号を振るだけではない)。数値は、数十〜数百の数字で構成される。\n",
        "  * 記述子には相関がない方が良い。大量の相関があると、次元の呪いに陥る可能性がある。\n",
        "  * descriptorの計算方法には、いくつか種類がある。\n",
        "  * pythonだと、[matminer](https://hackingmaterials.lbl.gov/matminer/#data-descriptor-tools)や[xenonpy](https://ma.issp.u-tokyo.ac.jp/app/1434)を使って計算できる。xenonpyのdescriptor計算は、基本的にmatminerのラッパーとなっている。\n",
        "  * 基本的には、原子の動きから計算する。原子の動きとは、rotation、reflection、tranlation、permutationを指す。\n",
        "  * Crystal Graph Convolutional Neural Network(CGCNN)を使って、結晶のdescriptorを計算する方法もある。\n",
        "  * 記述子を使った学習は、いい成果出してるみたい\n",
        "* matminerは[別のノートブック](https://github.com/4may/MIResearch/blob/master/matminer.ipynb)で遊んでみよう"
      ]
    },
    {
      "cell_type": "markdown",
      "metadata": {
        "id": "dJaij_PwbfXN",
        "colab_type": "text"
      },
      "source": [
        "* 最近の論文@JAP\n",
        "  * ベイズ最適化多いね\n",
        "  * [Machine-learning-assisted thin-film growth: Bayesian optimization in molecular beam epitaxy of SrRuO3 thin films](https://arxiv.org/pdf/1908.00739.pdf)\n",
        "  * [Materials informatics based on evolutionary algorithms: Application to search for superconducting hydrogen compounds](https://arxiv.org/pdf/1908.00746.pdf)\n",
        "  * [Synergy of Binary Substitutions for Improving the Cycle Performance in LiNiO2 Revealed by Ab Initio Materials Informatics](https://arxiv.org/pdf/2001.02876.pdf)"
      ]
    }
  ]
}
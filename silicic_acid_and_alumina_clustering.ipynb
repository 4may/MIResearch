{
  "nbformat": 4,
  "nbformat_minor": 0,
  "metadata": {
    "colab": {
      "name": "Untitled18.ipynb",
      "provenance": [],
      "collapsed_sections": [],
      "authorship_tag": "ABX9TyOkSz9h2867PyuM2sByKHoq",
      "include_colab_link": true
    },
    "kernelspec": {
      "name": "python3",
      "display_name": "Python 3"
    }
  },
  "cells": [
    {
      "cell_type": "markdown",
      "metadata": {
        "id": "view-in-github",
        "colab_type": "text"
      },
      "source": [
        "<a href=\"https://colab.research.google.com/github/4may/MIResearch/blob/master/silicic_acid_and_alumina_clustering.ipynb\" target=\"_parent\"><img src=\"https://colab.research.google.com/assets/colab-badge.svg\" alt=\"Open In Colab\"/></a>"
      ]
    },
    {
      "cell_type": "markdown",
      "metadata": {
        "id": "QoNgLn-qITzm",
        "colab_type": "text"
      },
      "source": [
        "# 初めてのマテリアルズインフォマティクス\n",
        "\n",
        "Materials Projectから適当に２種類の化合物に関するデータを拾ってきて、クラスタリングしてみる。\n",
        "\n",
        "2つのクラスタに分かれてくれればOK。\n",
        "\n",
        "まずは、pymatgenをインストールする。"
      ]
    },
    {
      "cell_type": "code",
      "metadata": {
        "id": "NN9RJ5XfLvsh",
        "colab_type": "code",
        "colab": {
          "base_uri": "https://localhost:8080/",
          "height": 904
        },
        "outputId": "c6111959-a236-4bfa-c1b7-5d3e8a6adac5"
      },
      "source": [
        "pip install pymatgen"
      ],
      "execution_count": 1,
      "outputs": [
        {
          "output_type": "stream",
          "text": [
            "Collecting pymatgen\n",
            "\u001b[?25l  Downloading https://files.pythonhosted.org/packages/8a/55/38113e4bf6e2ffccc41584d7869ea839a77c88f3fda05b6c03efec887c53/pymatgen-2020.4.29.tar.gz (2.7MB)\n",
            "\r\u001b[K     |▏                               | 10kB 17.3MB/s eta 0:00:01\r\u001b[K     |▎                               | 20kB 6.3MB/s eta 0:00:01\r\u001b[K     |▍                               | 30kB 7.3MB/s eta 0:00:01\r\u001b[K     |▌                               | 40kB 7.9MB/s eta 0:00:01\r\u001b[K     |▋                               | 51kB 7.0MB/s eta 0:00:01\r\u001b[K     |▊                               | 61kB 7.8MB/s eta 0:00:01\r\u001b[K     |▉                               | 71kB 8.0MB/s eta 0:00:01\r\u001b[K     |█                               | 81kB 8.4MB/s eta 0:00:01\r\u001b[K     |█                               | 92kB 7.8MB/s eta 0:00:01\r\u001b[K     |█▏                              | 102kB 8.1MB/s eta 0:00:01\r\u001b[K     |█▍                              | 112kB 8.1MB/s eta 0:00:01\r\u001b[K     |█▌                              | 122kB 8.1MB/s eta 0:00:01\r\u001b[K     |█▋                              | 133kB 8.1MB/s eta 0:00:01\r\u001b[K     |█▊                              | 143kB 8.1MB/s eta 0:00:01\r\u001b[K     |█▉                              | 153kB 8.1MB/s eta 0:00:01\r\u001b[K     |██                              | 163kB 8.1MB/s eta 0:00:01\r\u001b[K     |██                              | 174kB 8.1MB/s eta 0:00:01\r\u001b[K     |██▏                             | 184kB 8.1MB/s eta 0:00:01\r\u001b[K     |██▎                             | 194kB 8.1MB/s eta 0:00:01\r\u001b[K     |██▍                             | 204kB 8.1MB/s eta 0:00:01\r\u001b[K     |██▋                             | 215kB 8.1MB/s eta 0:00:01\r\u001b[K     |██▊                             | 225kB 8.1MB/s eta 0:00:01\r\u001b[K     |██▉                             | 235kB 8.1MB/s eta 0:00:01\r\u001b[K     |███                             | 245kB 8.1MB/s eta 0:00:01\r\u001b[K     |███                             | 256kB 8.1MB/s eta 0:00:01\r\u001b[K     |███▏                            | 266kB 8.1MB/s eta 0:00:01\r\u001b[K     |███▎                            | 276kB 8.1MB/s eta 0:00:01\r\u001b[K     |███▍                            | 286kB 8.1MB/s eta 0:00:01\r\u001b[K     |███▌                            | 296kB 8.1MB/s eta 0:00:01\r\u001b[K     |███▋                            | 307kB 8.1MB/s eta 0:00:01\r\u001b[K     |███▉                            | 317kB 8.1MB/s eta 0:00:01\r\u001b[K     |████                            | 327kB 8.1MB/s eta 0:00:01\r\u001b[K     |████                            | 337kB 8.1MB/s eta 0:00:01\r\u001b[K     |████▏                           | 348kB 8.1MB/s eta 0:00:01\r\u001b[K     |████▎                           | 358kB 8.1MB/s eta 0:00:01\r\u001b[K     |████▍                           | 368kB 8.1MB/s eta 0:00:01\r\u001b[K     |████▌                           | 378kB 8.1MB/s eta 0:00:01\r\u001b[K     |████▋                           | 389kB 8.1MB/s eta 0:00:01\r\u001b[K     |████▊                           | 399kB 8.1MB/s eta 0:00:01\r\u001b[K     |████▉                           | 409kB 8.1MB/s eta 0:00:01\r\u001b[K     |█████                           | 419kB 8.1MB/s eta 0:00:01\r\u001b[K     |█████▏                          | 430kB 8.1MB/s eta 0:00:01\r\u001b[K     |█████▎                          | 440kB 8.1MB/s eta 0:00:01\r\u001b[K     |█████▍                          | 450kB 8.1MB/s eta 0:00:01\r\u001b[K     |█████▌                          | 460kB 8.1MB/s eta 0:00:01\r\u001b[K     |█████▋                          | 471kB 8.1MB/s eta 0:00:01\r\u001b[K     |█████▊                          | 481kB 8.1MB/s eta 0:00:01\r\u001b[K     |█████▉                          | 491kB 8.1MB/s eta 0:00:01\r\u001b[K     |██████                          | 501kB 8.1MB/s eta 0:00:01\r\u001b[K     |██████                          | 512kB 8.1MB/s eta 0:00:01\r\u001b[K     |██████▎                         | 522kB 8.1MB/s eta 0:00:01\r\u001b[K     |██████▍                         | 532kB 8.1MB/s eta 0:00:01\r\u001b[K     |██████▌                         | 542kB 8.1MB/s eta 0:00:01\r\u001b[K     |██████▋                         | 552kB 8.1MB/s eta 0:00:01\r\u001b[K     |██████▊                         | 563kB 8.1MB/s eta 0:00:01\r\u001b[K     |██████▉                         | 573kB 8.1MB/s eta 0:00:01\r\u001b[K     |███████                         | 583kB 8.1MB/s eta 0:00:01\r\u001b[K     |███████                         | 593kB 8.1MB/s eta 0:00:01\r\u001b[K     |███████▏                        | 604kB 8.1MB/s eta 0:00:01\r\u001b[K     |███████▎                        | 614kB 8.1MB/s eta 0:00:01\r\u001b[K     |███████▌                        | 624kB 8.1MB/s eta 0:00:01\r\u001b[K     |███████▋                        | 634kB 8.1MB/s eta 0:00:01\r\u001b[K     |███████▊                        | 645kB 8.1MB/s eta 0:00:01\r\u001b[K     |███████▉                        | 655kB 8.1MB/s eta 0:00:01\r\u001b[K     |████████                        | 665kB 8.1MB/s eta 0:00:01\r\u001b[K     |████████                        | 675kB 8.1MB/s eta 0:00:01\r\u001b[K     |████████▏                       | 686kB 8.1MB/s eta 0:00:01\r\u001b[K     |████████▎                       | 696kB 8.1MB/s eta 0:00:01\r\u001b[K     |████████▍                       | 706kB 8.1MB/s eta 0:00:01\r\u001b[K     |████████▌                       | 716kB 8.1MB/s eta 0:00:01\r\u001b[K     |████████▊                       | 727kB 8.1MB/s eta 0:00:01\r\u001b[K     |████████▉                       | 737kB 8.1MB/s eta 0:00:01\r\u001b[K     |█████████                       | 747kB 8.1MB/s eta 0:00:01\r\u001b[K     |█████████                       | 757kB 8.1MB/s eta 0:00:01\r\u001b[K     |█████████▏                      | 768kB 8.1MB/s eta 0:00:01\r\u001b[K     |█████████▎                      | 778kB 8.1MB/s eta 0:00:01\r\u001b[K     |█████████▍                      | 788kB 8.1MB/s eta 0:00:01\r\u001b[K     |█████████▌                      | 798kB 8.1MB/s eta 0:00:01\r\u001b[K     |█████████▋                      | 808kB 8.1MB/s eta 0:00:01\r\u001b[K     |█████████▊                      | 819kB 8.1MB/s eta 0:00:01\r\u001b[K     |██████████                      | 829kB 8.1MB/s eta 0:00:01\r\u001b[K     |██████████                      | 839kB 8.1MB/s eta 0:00:01\r\u001b[K     |██████████▏                     | 849kB 8.1MB/s eta 0:00:01\r\u001b[K     |██████████▎                     | 860kB 8.1MB/s eta 0:00:01\r\u001b[K     |██████████▍                     | 870kB 8.1MB/s eta 0:00:01\r\u001b[K     |██████████▌                     | 880kB 8.1MB/s eta 0:00:01\r\u001b[K     |██████████▋                     | 890kB 8.1MB/s eta 0:00:01\r\u001b[K     |██████████▊                     | 901kB 8.1MB/s eta 0:00:01\r\u001b[K     |██████████▉                     | 911kB 8.1MB/s eta 0:00:01\r\u001b[K     |███████████                     | 921kB 8.1MB/s eta 0:00:01\r\u001b[K     |███████████▏                    | 931kB 8.1MB/s eta 0:00:01\r\u001b[K     |███████████▎                    | 942kB 8.1MB/s eta 0:00:01\r\u001b[K     |███████████▍                    | 952kB 8.1MB/s eta 0:00:01\r\u001b[K     |███████████▌                    | 962kB 8.1MB/s eta 0:00:01\r\u001b[K     |███████████▋                    | 972kB 8.1MB/s eta 0:00:01\r\u001b[K     |███████████▊                    | 983kB 8.1MB/s eta 0:00:01\r\u001b[K     |███████████▉                    | 993kB 8.1MB/s eta 0:00:01\r\u001b[K     |████████████                    | 1.0MB 8.1MB/s eta 0:00:01\r\u001b[K     |████████████                    | 1.0MB 8.1MB/s eta 0:00:01\r\u001b[K     |████████████▏                   | 1.0MB 8.1MB/s eta 0:00:01\r\u001b[K     |████████████▍                   | 1.0MB 8.1MB/s eta 0:00:01\r\u001b[K     |████████████▌                   | 1.0MB 8.1MB/s eta 0:00:01\r\u001b[K     |████████████▋                   | 1.1MB 8.1MB/s eta 0:00:01\r\u001b[K     |████████████▊                   | 1.1MB 8.1MB/s eta 0:00:01\r\u001b[K     |████████████▉                   | 1.1MB 8.1MB/s eta 0:00:01\r\u001b[K     |█████████████                   | 1.1MB 8.1MB/s eta 0:00:01\r\u001b[K     |█████████████                   | 1.1MB 8.1MB/s eta 0:00:01\r\u001b[K     |█████████████▏                  | 1.1MB 8.1MB/s eta 0:00:01\r\u001b[K     |█████████████▎                  | 1.1MB 8.1MB/s eta 0:00:01\r\u001b[K     |█████████████▍                  | 1.1MB 8.1MB/s eta 0:00:01\r\u001b[K     |█████████████▋                  | 1.1MB 8.1MB/s eta 0:00:01\r\u001b[K     |█████████████▊                  | 1.1MB 8.1MB/s eta 0:00:01\r\u001b[K     |█████████████▉                  | 1.2MB 8.1MB/s eta 0:00:01\r\u001b[K     |██████████████                  | 1.2MB 8.1MB/s eta 0:00:01\r\u001b[K     |██████████████                  | 1.2MB 8.1MB/s eta 0:00:01\r\u001b[K     |██████████████▏                 | 1.2MB 8.1MB/s eta 0:00:01\r\u001b[K     |██████████████▎                 | 1.2MB 8.1MB/s eta 0:00:01\r\u001b[K     |██████████████▍                 | 1.2MB 8.1MB/s eta 0:00:01\r\u001b[K     |██████████████▌                 | 1.2MB 8.1MB/s eta 0:00:01\r\u001b[K     |██████████████▋                 | 1.2MB 8.1MB/s eta 0:00:01\r\u001b[K     |██████████████▉                 | 1.2MB 8.1MB/s eta 0:00:01\r\u001b[K     |███████████████                 | 1.2MB 8.1MB/s eta 0:00:01\r\u001b[K     |███████████████                 | 1.3MB 8.1MB/s eta 0:00:01\r\u001b[K     |███████████████▏                | 1.3MB 8.1MB/s eta 0:00:01\r\u001b[K     |███████████████▎                | 1.3MB 8.1MB/s eta 0:00:01\r\u001b[K     |███████████████▍                | 1.3MB 8.1MB/s eta 0:00:01\r\u001b[K     |███████████████▌                | 1.3MB 8.1MB/s eta 0:00:01\r\u001b[K     |███████████████▋                | 1.3MB 8.1MB/s eta 0:00:01\r\u001b[K     |███████████████▊                | 1.3MB 8.1MB/s eta 0:00:01\r\u001b[K     |███████████████▉                | 1.3MB 8.1MB/s eta 0:00:01\r\u001b[K     |████████████████                | 1.3MB 8.1MB/s eta 0:00:01\r\u001b[K     |████████████████▏               | 1.4MB 8.1MB/s eta 0:00:01\r\u001b[K     |████████████████▎               | 1.4MB 8.1MB/s eta 0:00:01\r\u001b[K     |████████████████▍               | 1.4MB 8.1MB/s eta 0:00:01\r\u001b[K     |████████████████▌               | 1.4MB 8.1MB/s eta 0:00:01\r\u001b[K     |████████████████▋               | 1.4MB 8.1MB/s eta 0:00:01\r\u001b[K     |████████████████▊               | 1.4MB 8.1MB/s eta 0:00:01\r\u001b[K     |████████████████▉               | 1.4MB 8.1MB/s eta 0:00:01\r\u001b[K     |█████████████████               | 1.4MB 8.1MB/s eta 0:00:01\r\u001b[K     |█████████████████               | 1.4MB 8.1MB/s eta 0:00:01\r\u001b[K     |█████████████████▎              | 1.4MB 8.1MB/s eta 0:00:01\r\u001b[K     |█████████████████▍              | 1.5MB 8.1MB/s eta 0:00:01\r\u001b[K     |█████████████████▌              | 1.5MB 8.1MB/s eta 0:00:01\r\u001b[K     |█████████████████▋              | 1.5MB 8.1MB/s eta 0:00:01\r\u001b[K     |█████████████████▊              | 1.5MB 8.1MB/s eta 0:00:01\r\u001b[K     |█████████████████▉              | 1.5MB 8.1MB/s eta 0:00:01\r\u001b[K     |██████████████████              | 1.5MB 8.1MB/s eta 0:00:01\r\u001b[K     |██████████████████              | 1.5MB 8.1MB/s eta 0:00:01\r\u001b[K     |██████████████████▏             | 1.5MB 8.1MB/s eta 0:00:01\r\u001b[K     |██████████████████▎             | 1.5MB 8.1MB/s eta 0:00:01\r\u001b[K     |██████████████████▌             | 1.5MB 8.1MB/s eta 0:00:01\r\u001b[K     |██████████████████▋             | 1.6MB 8.1MB/s eta 0:00:01\r\u001b[K     |██████████████████▊             | 1.6MB 8.1MB/s eta 0:00:01\r\u001b[K     |██████████████████▉             | 1.6MB 8.1MB/s eta 0:00:01\r\u001b[K     |███████████████████             | 1.6MB 8.1MB/s eta 0:00:01\r\u001b[K     |███████████████████             | 1.6MB 8.1MB/s eta 0:00:01\r\u001b[K     |███████████████████▏            | 1.6MB 8.1MB/s eta 0:00:01\r\u001b[K     |███████████████████▎            | 1.6MB 8.1MB/s eta 0:00:01\r\u001b[K     |███████████████████▍            | 1.6MB 8.1MB/s eta 0:00:01\r\u001b[K     |███████████████████▌            | 1.6MB 8.1MB/s eta 0:00:01\r\u001b[K     |███████████████████▊            | 1.6MB 8.1MB/s eta 0:00:01\r\u001b[K     |███████████████████▉            | 1.7MB 8.1MB/s eta 0:00:01\r\u001b[K     |████████████████████            | 1.7MB 8.1MB/s eta 0:00:01\r\u001b[K     |████████████████████            | 1.7MB 8.1MB/s eta 0:00:01\r\u001b[K     |████████████████████▏           | 1.7MB 8.1MB/s eta 0:00:01\r\u001b[K     |████████████████████▎           | 1.7MB 8.1MB/s eta 0:00:01\r\u001b[K     |████████████████████▍           | 1.7MB 8.1MB/s eta 0:00:01\r\u001b[K     |████████████████████▌           | 1.7MB 8.1MB/s eta 0:00:01\r\u001b[K     |████████████████████▋           | 1.7MB 8.1MB/s eta 0:00:01\r\u001b[K     |████████████████████▊           | 1.7MB 8.1MB/s eta 0:00:01\r\u001b[K     |█████████████████████           | 1.8MB 8.1MB/s eta 0:00:01\r\u001b[K     |█████████████████████           | 1.8MB 8.1MB/s eta 0:00:01\r\u001b[K     |█████████████████████▏          | 1.8MB 8.1MB/s eta 0:00:01\r\u001b[K     |█████████████████████▎          | 1.8MB 8.1MB/s eta 0:00:01\r\u001b[K     |█████████████████████▍          | 1.8MB 8.1MB/s eta 0:00:01\r\u001b[K     |█████████████████████▌          | 1.8MB 8.1MB/s eta 0:00:01\r\u001b[K     |█████████████████████▋          | 1.8MB 8.1MB/s eta 0:00:01\r\u001b[K     |█████████████████████▊          | 1.8MB 8.1MB/s eta 0:00:01\r\u001b[K     |█████████████████████▉          | 1.8MB 8.1MB/s eta 0:00:01\r\u001b[K     |██████████████████████          | 1.8MB 8.1MB/s eta 0:00:01\r\u001b[K     |██████████████████████▏         | 1.9MB 8.1MB/s eta 0:00:01\r\u001b[K     |██████████████████████▎         | 1.9MB 8.1MB/s eta 0:00:01\r\u001b[K     |██████████████████████▍         | 1.9MB 8.1MB/s eta 0:00:01\r\u001b[K     |██████████████████████▌         | 1.9MB 8.1MB/s eta 0:00:01\r\u001b[K     |██████████████████████▋         | 1.9MB 8.1MB/s eta 0:00:01\r\u001b[K     |██████████████████████▊         | 1.9MB 8.1MB/s eta 0:00:01\r\u001b[K     |██████████████████████▉         | 1.9MB 8.1MB/s eta 0:00:01\r\u001b[K     |███████████████████████         | 1.9MB 8.1MB/s eta 0:00:01\r\u001b[K     |███████████████████████         | 1.9MB 8.1MB/s eta 0:00:01\r\u001b[K     |███████████████████████▏        | 1.9MB 8.1MB/s eta 0:00:01\r\u001b[K     |███████████████████████▍        | 2.0MB 8.1MB/s eta 0:00:01\r\u001b[K     |███████████████████████▌        | 2.0MB 8.1MB/s eta 0:00:01\r\u001b[K     |███████████████████████▋        | 2.0MB 8.1MB/s eta 0:00:01\r\u001b[K     |███████████████████████▊        | 2.0MB 8.1MB/s eta 0:00:01\r\u001b[K     |███████████████████████▉        | 2.0MB 8.1MB/s eta 0:00:01\r\u001b[K     |████████████████████████        | 2.0MB 8.1MB/s eta 0:00:01\r\u001b[K     |████████████████████████        | 2.0MB 8.1MB/s eta 0:00:01\r\u001b[K     |████████████████████████▏       | 2.0MB 8.1MB/s eta 0:00:01\r\u001b[K     |████████████████████████▎       | 2.0MB 8.1MB/s eta 0:00:01\r\u001b[K     |████████████████████████▍       | 2.0MB 8.1MB/s eta 0:00:01\r\u001b[K     |████████████████████████▋       | 2.1MB 8.1MB/s eta 0:00:01\r\u001b[K     |████████████████████████▊       | 2.1MB 8.1MB/s eta 0:00:01\r\u001b[K     |████████████████████████▉       | 2.1MB 8.1MB/s eta 0:00:01\r\u001b[K     |█████████████████████████       | 2.1MB 8.1MB/s eta 0:00:01\r\u001b[K     |█████████████████████████       | 2.1MB 8.1MB/s eta 0:00:01\r\u001b[K     |█████████████████████████▏      | 2.1MB 8.1MB/s eta 0:00:01\r\u001b[K     |█████████████████████████▎      | 2.1MB 8.1MB/s eta 0:00:01\r\u001b[K     |█████████████████████████▍      | 2.1MB 8.1MB/s eta 0:00:01\r\u001b[K     |█████████████████████████▌      | 2.1MB 8.1MB/s eta 0:00:01\r\u001b[K     |█████████████████████████▋      | 2.2MB 8.1MB/s eta 0:00:01\r\u001b[K     |█████████████████████████▉      | 2.2MB 8.1MB/s eta 0:00:01\r\u001b[K     |██████████████████████████      | 2.2MB 8.1MB/s eta 0:00:01\r\u001b[K     |██████████████████████████      | 2.2MB 8.1MB/s eta 0:00:01\r\u001b[K     |██████████████████████████▏     | 2.2MB 8.1MB/s eta 0:00:01\r\u001b[K     |██████████████████████████▎     | 2.2MB 8.1MB/s eta 0:00:01\r\u001b[K     |██████████████████████████▍     | 2.2MB 8.1MB/s eta 0:00:01\r\u001b[K     |██████████████████████████▌     | 2.2MB 8.1MB/s eta 0:00:01\r\u001b[K     |██████████████████████████▋     | 2.2MB 8.1MB/s eta 0:00:01\r\u001b[K     |██████████████████████████▊     | 2.2MB 8.1MB/s eta 0:00:01\r\u001b[K     |██████████████████████████▉     | 2.3MB 8.1MB/s eta 0:00:01\r\u001b[K     |███████████████████████████     | 2.3MB 8.1MB/s eta 0:00:01\r\u001b[K     |███████████████████████████▏    | 2.3MB 8.1MB/s eta 0:00:01\r\u001b[K     |███████████████████████████▎    | 2.3MB 8.1MB/s eta 0:00:01\r\u001b[K     |███████████████████████████▍    | 2.3MB 8.1MB/s eta 0:00:01\r\u001b[K     |███████████████████████████▌    | 2.3MB 8.1MB/s eta 0:00:01\r\u001b[K     |███████████████████████████▋    | 2.3MB 8.1MB/s eta 0:00:01\r\u001b[K     |███████████████████████████▊    | 2.3MB 8.1MB/s eta 0:00:01\r\u001b[K     |███████████████████████████▉    | 2.3MB 8.1MB/s eta 0:00:01\r\u001b[K     |████████████████████████████    | 2.3MB 8.1MB/s eta 0:00:01\r\u001b[K     |████████████████████████████    | 2.4MB 8.1MB/s eta 0:00:01\r\u001b[K     |████████████████████████████▎   | 2.4MB 8.1MB/s eta 0:00:01\r\u001b[K     |████████████████████████████▍   | 2.4MB 8.1MB/s eta 0:00:01\r\u001b[K     |████████████████████████████▌   | 2.4MB 8.1MB/s eta 0:00:01\r\u001b[K     |████████████████████████████▋   | 2.4MB 8.1MB/s eta 0:00:01\r\u001b[K     |████████████████████████████▊   | 2.4MB 8.1MB/s eta 0:00:01\r\u001b[K     |████████████████████████████▉   | 2.4MB 8.1MB/s eta 0:00:01\r\u001b[K     |█████████████████████████████   | 2.4MB 8.1MB/s eta 0:00:01\r\u001b[K     |█████████████████████████████   | 2.4MB 8.1MB/s eta 0:00:01\r\u001b[K     |█████████████████████████████▏  | 2.4MB 8.1MB/s eta 0:00:01\r\u001b[K     |█████████████████████████████▎  | 2.5MB 8.1MB/s eta 0:00:01\r\u001b[K     |█████████████████████████████▌  | 2.5MB 8.1MB/s eta 0:00:01\r\u001b[K     |█████████████████████████████▋  | 2.5MB 8.1MB/s eta 0:00:01\r\u001b[K     |█████████████████████████████▊  | 2.5MB 8.1MB/s eta 0:00:01\r\u001b[K     |█████████████████████████████▉  | 2.5MB 8.1MB/s eta 0:00:01\r\u001b[K     |██████████████████████████████  | 2.5MB 8.1MB/s eta 0:00:01\r\u001b[K     |██████████████████████████████  | 2.5MB 8.1MB/s eta 0:00:01\r\u001b[K     |██████████████████████████████▏ | 2.5MB 8.1MB/s eta 0:00:01\r\u001b[K     |██████████████████████████████▎ | 2.5MB 8.1MB/s eta 0:00:01\r\u001b[K     |██████████████████████████████▍ | 2.5MB 8.1MB/s eta 0:00:01\r\u001b[K     |██████████████████████████████▌ | 2.6MB 8.1MB/s eta 0:00:01\r\u001b[K     |██████████████████████████████▊ | 2.6MB 8.1MB/s eta 0:00:01\r\u001b[K     |██████████████████████████████▉ | 2.6MB 8.1MB/s eta 0:00:01\r\u001b[K     |███████████████████████████████ | 2.6MB 8.1MB/s eta 0:00:01\r\u001b[K     |███████████████████████████████ | 2.6MB 8.1MB/s eta 0:00:01\r\u001b[K     |███████████████████████████████▏| 2.6MB 8.1MB/s eta 0:00:01\r\u001b[K     |███████████████████████████████▎| 2.6MB 8.1MB/s eta 0:00:01\r\u001b[K     |███████████████████████████████▍| 2.6MB 8.1MB/s eta 0:00:01\r\u001b[K     |███████████████████████████████▌| 2.6MB 8.1MB/s eta 0:00:01\r\u001b[K     |███████████████████████████████▋| 2.7MB 8.1MB/s eta 0:00:01\r\u001b[K     |███████████████████████████████▊| 2.7MB 8.1MB/s eta 0:00:01\r\u001b[K     |████████████████████████████████| 2.7MB 8.1MB/s eta 0:00:01\r\u001b[K     |████████████████████████████████| 2.7MB 8.1MB/s \n",
            "\u001b[?25hRequirement already satisfied: numpy>=1.14.3 in /usr/local/lib/python3.6/dist-packages (from pymatgen) (1.18.3)\n",
            "Requirement already satisfied: requests in /usr/local/lib/python3.6/dist-packages (from pymatgen) (2.23.0)\n",
            "Collecting ruamel.yaml>=0.15.6\n",
            "\u001b[?25l  Downloading https://files.pythonhosted.org/packages/a6/92/59af3e38227b9cc14520bf1e59516d99ceca53e3b8448094248171e9432b/ruamel.yaml-0.16.10-py2.py3-none-any.whl (111kB)\n",
            "\u001b[K     |████████████████████████████████| 112kB 12.2MB/s \n",
            "\u001b[?25hCollecting monty>=3.0.2\n",
            "\u001b[?25l  Downloading https://files.pythonhosted.org/packages/b1/a4/d57b127ad2103ebc1a21a9c6379abc10d5f57f5d92cac86532c15a43818f/monty-3.0.2-py3-none-any.whl (61kB)\n",
            "\u001b[K     |████████████████████████████████| 61kB 8.3MB/s \n",
            "\u001b[?25hRequirement already satisfied: scipy>=1.0.1 in /usr/local/lib/python3.6/dist-packages (from pymatgen) (1.4.1)\n",
            "Requirement already satisfied: tabulate in /usr/local/lib/python3.6/dist-packages (from pymatgen) (0.8.7)\n",
            "Collecting spglib>=1.9.9.44\n",
            "\u001b[?25l  Downloading https://files.pythonhosted.org/packages/5c/23/4c3ac9800663cac42903b5d696cf34170ec144635c1c77152f7ab97731e1/spglib-1.15.1-cp36-cp36m-manylinux2010_x86_64.whl (294kB)\n",
            "\u001b[K     |████████████████████████████████| 296kB 30.5MB/s \n",
            "\u001b[?25hRequirement already satisfied: networkx>=2.2 in /usr/local/lib/python3.6/dist-packages (from pymatgen) (2.4)\n",
            "Requirement already satisfied: matplotlib>=1.5 in /usr/local/lib/python3.6/dist-packages (from pymatgen) (3.2.1)\n",
            "Requirement already satisfied: palettable>=3.1.1 in /usr/local/lib/python3.6/dist-packages (from pymatgen) (3.3.0)\n",
            "Requirement already satisfied: sympy in /usr/local/lib/python3.6/dist-packages (from pymatgen) (1.1.1)\n",
            "Requirement already satisfied: pandas in /usr/local/lib/python3.6/dist-packages (from pymatgen) (1.0.3)\n",
            "Collecting plotly>=4.5.0\n",
            "\u001b[?25l  Downloading https://files.pythonhosted.org/packages/4e/9b/1597117623f99b16d87f839b66040a5d3c8a61d83264fdad4388e142944b/plotly-4.7.0-py2.py3-none-any.whl (11.5MB)\n",
            "\u001b[K     |████████████████████████████████| 11.5MB 51.6MB/s \n",
            "\u001b[?25hRequirement already satisfied: dataclasses>=0.6 in /usr/local/lib/python3.6/dist-packages (from pymatgen) (0.7)\n",
            "Requirement already satisfied: idna<3,>=2.5 in /usr/local/lib/python3.6/dist-packages (from requests->pymatgen) (2.9)\n",
            "Requirement already satisfied: certifi>=2017.4.17 in /usr/local/lib/python3.6/dist-packages (from requests->pymatgen) (2020.4.5.1)\n",
            "Requirement already satisfied: urllib3!=1.25.0,!=1.25.1,<1.26,>=1.21.1 in /usr/local/lib/python3.6/dist-packages (from requests->pymatgen) (1.24.3)\n",
            "Requirement already satisfied: chardet<4,>=3.0.2 in /usr/local/lib/python3.6/dist-packages (from requests->pymatgen) (3.0.4)\n",
            "Collecting ruamel.yaml.clib>=0.1.2; platform_python_implementation == \"CPython\" and python_version < \"3.9\"\n",
            "\u001b[?25l  Downloading https://files.pythonhosted.org/packages/53/77/4bcd63f362bcb6c8f4f06253c11f9772f64189bf08cf3f40c5ccbda9e561/ruamel.yaml.clib-0.2.0-cp36-cp36m-manylinux1_x86_64.whl (548kB)\n",
            "\u001b[K     |████████████████████████████████| 552kB 49.9MB/s \n",
            "\u001b[?25hRequirement already satisfied: decorator>=4.3.0 in /usr/local/lib/python3.6/dist-packages (from networkx>=2.2->pymatgen) (4.4.2)\n",
            "Requirement already satisfied: python-dateutil>=2.1 in /usr/local/lib/python3.6/dist-packages (from matplotlib>=1.5->pymatgen) (2.8.1)\n",
            "Requirement already satisfied: kiwisolver>=1.0.1 in /usr/local/lib/python3.6/dist-packages (from matplotlib>=1.5->pymatgen) (1.2.0)\n",
            "Requirement already satisfied: cycler>=0.10 in /usr/local/lib/python3.6/dist-packages (from matplotlib>=1.5->pymatgen) (0.10.0)\n",
            "Requirement already satisfied: pyparsing!=2.0.4,!=2.1.2,!=2.1.6,>=2.0.1 in /usr/local/lib/python3.6/dist-packages (from matplotlib>=1.5->pymatgen) (2.4.7)\n",
            "Requirement already satisfied: mpmath>=0.19 in /usr/local/lib/python3.6/dist-packages (from sympy->pymatgen) (1.1.0)\n",
            "Requirement already satisfied: pytz>=2017.2 in /usr/local/lib/python3.6/dist-packages (from pandas->pymatgen) (2018.9)\n",
            "Requirement already satisfied: retrying>=1.3.3 in /usr/local/lib/python3.6/dist-packages (from plotly>=4.5.0->pymatgen) (1.3.3)\n",
            "Requirement already satisfied: six in /usr/local/lib/python3.6/dist-packages (from plotly>=4.5.0->pymatgen) (1.12.0)\n",
            "Building wheels for collected packages: pymatgen\n",
            "  Building wheel for pymatgen (setup.py) ... \u001b[?25l\u001b[?25hdone\n",
            "  Created wheel for pymatgen: filename=pymatgen-2020.4.29-cp36-cp36m-linux_x86_64.whl size=3528725 sha256=4045f00547870bcdc53f710999f6467bf5aee77478519333520ff21e2fe7cfde\n",
            "  Stored in directory: /root/.cache/pip/wheels/0c/4e/ee/13ca3f09aadb9328e6fe8039bc5df20f80d02bfaee15b620f8\n",
            "Successfully built pymatgen\n",
            "Installing collected packages: ruamel.yaml.clib, ruamel.yaml, monty, spglib, plotly, pymatgen\n",
            "  Found existing installation: plotly 4.4.1\n",
            "    Uninstalling plotly-4.4.1:\n",
            "      Successfully uninstalled plotly-4.4.1\n",
            "Successfully installed monty-3.0.2 plotly-4.7.0 pymatgen-2020.4.29 ruamel.yaml-0.16.10 ruamel.yaml.clib-0.2.0 spglib-1.15.1\n"
          ],
          "name": "stdout"
        }
      ]
    },
    {
      "cell_type": "markdown",
      "metadata": {
        "id": "--dgs2faMAIC",
        "colab_type": "text"
      },
      "source": [
        "試しに、ケイ酸(SiO2)のデータを取得してみる。\n",
        "\n",
        "まずは、REST API用のAPIキーを、Materials Projectの[Dashboard](https://materialsproject.org/dashboard)から、取得する。"
      ]
    },
    {
      "cell_type": "code",
      "metadata": {
        "id": "E-OznoWTL-0D",
        "colab_type": "code",
        "colab": {}
      },
      "source": [
        "API_KEY = \"MY_API_KEY\"\""
      ],
      "execution_count": 0,
      "outputs": []
    },
    {
      "cell_type": "markdown",
      "metadata": {
        "id": "46TuO2vINBmI",
        "colab_type": "text"
      },
      "source": [
        "次に、RESTインターフェースMPResterの引数に、取得したAPIを指定する。"
      ]
    },
    {
      "cell_type": "code",
      "metadata": {
        "id": "MLts_eVyM_f3",
        "colab_type": "code",
        "colab": {
          "base_uri": "https://localhost:8080/",
          "height": 34
        },
        "outputId": "db710007-866f-4fbd-e47d-db1eee08e93d"
      },
      "source": [
        "from pymatgen import MPRester\n",
        "\n",
        "mp_rester = MPRester(API_KEY)"
      ],
      "execution_count": 5,
      "outputs": [
        {
          "output_type": "execute_result",
          "data": {
            "text/plain": [
              "<pymatgen.ext.matproj.MPRester at 0x7f3b72fb2cc0>"
            ]
          },
          "metadata": {
            "tags": []
          },
          "execution_count": 5
        }
      ]
    },
    {
      "cell_type": "markdown",
      "metadata": {
        "id": "7VpCTRUnOIxG",
        "colab_type": "text"
      },
      "source": [
        "materials IDから、その材料の情報をdict形式で取得してみよう。以下の例では、$SiO_2$の[materials ID](https://materialsproject.org/materials/mp-546794/)を指定している。materials IDは、materials project上で検索すると取得できる。"
      ]
    },
    {
      "cell_type": "code",
      "metadata": {
        "id": "U_c78ECjNohw",
        "colab_type": "code",
        "colab": {}
      },
      "source": [
        "doc = mp_rester.get_doc(\"mp-546794\")"
      ],
      "execution_count": 0,
      "outputs": []
    },
    {
      "cell_type": "markdown",
      "metadata": {
        "id": "LgTP617mO1m9",
        "colab_type": "text"
      },
      "source": [
        "keyの数を表示してみる。"
      ]
    },
    {
      "cell_type": "code",
      "metadata": {
        "id": "91ZP5u8DOHHP",
        "colab_type": "code",
        "colab": {
          "base_uri": "https://localhost:8080/",
          "height": 34
        },
        "outputId": "493d8270-65d0-4f1d-b9b2-661ed93f51a8"
      },
      "source": [
        "len(doc.keys())"
      ],
      "execution_count": 12,
      "outputs": [
        {
          "output_type": "execute_result",
          "data": {
            "text/plain": [
              "75"
            ]
          },
          "metadata": {
            "tags": []
          },
          "execution_count": 12
        }
      ]
    },
    {
      "cell_type": "markdown",
      "metadata": {
        "id": "dSrtRpypOyT9",
        "colab_type": "text"
      },
      "source": [
        "どんなkeyが含まれているだろうか。"
      ]
    },
    {
      "cell_type": "code",
      "metadata": {
        "id": "UdAwLW4bN7DC",
        "colab_type": "code",
        "colab": {
          "base_uri": "https://localhost:8080/",
          "height": 54
        },
        "outputId": "94a3f3da-0620-4381-9292-bc7b1b97b382"
      },
      "source": [
        "doc.keys()"
      ],
      "execution_count": 11,
      "outputs": [
        {
          "output_type": "execute_result",
          "data": {
            "text/plain": [
              "dict_keys(['_id', 'anonymous_formula', 'band_gap', 'blessed_tasks', 'bv_structure', 'chemsys', 'cif', 'cifs', 'cohesive_energy', 'cpu_time', 'created_at', 'decomposes_to', 'delta_volume', 'density', 'deprecated', 'e_above_hull', 'efermi', 'elements', 'encut', 'final_energy', 'final_energy_per_atom', 'formation_energy_per_atom', 'full_formula', 'has', 'has_bandstructure', 'hubbards', 'icsd_id', 'icsd_ids', 'initial_structure', 'input', 'ionic_steps', 'is_compatible', 'is_hubbard', 'is_ordered', 'magnetic_type', 'nelements', 'nkpts', 'nsites', 'ntask_ids', 'original_task_id', 'oxide_type', 'pretty_formula', 'pseudo_potential', 'reduced_cell_formula', 'run_stats', 'run_type', 'snl', 'snl_final', 'snlgroup_changed', 'snlgroup_id', 'snlgroup_id_final', 'spacegroup', 'structure', 'task_id', 'task_ids', 'total_magnetization', 'unit_cell_formula', 'updated_at', 'volume', 'warnings', 'xrd', 'band_structure_uniform', 'dos', 'band_structure', 'static', 'exp', 'exp_lattice', 'elasticity', 'piezo', 'diel', 'phonons', 'doi', 'doi_bibtex', 'external_data', 'sbxd'])"
            ]
          },
          "metadata": {
            "tags": []
          },
          "execution_count": 11
        }
      ]
    },
    {
      "cell_type": "markdown",
      "metadata": {
        "id": "oSQU2fnyPUEk",
        "colab_type": "text"
      },
      "source": [
        "材料の特性に関する情報(つまり、特徴量)がわんさか出てきた！機械学習するときは、この中から自分が興味のある特徴量を指定するか、もしくは次元削減などで調整してやれば良さそうだ。\n",
        "\n",
        "keyを使って、要素にアクセスしてみる。"
      ]
    },
    {
      "cell_type": "code",
      "metadata": {
        "id": "yTJvcmpTPFxN",
        "colab_type": "code",
        "colab": {
          "base_uri": "https://localhost:8080/",
          "height": 34
        },
        "outputId": "f66c5e86-adb2-41e4-9d28-7263b92ec6a4"
      },
      "source": [
        "doc['band_gap']"
      ],
      "execution_count": 14,
      "outputs": [
        {
          "output_type": "execute_result",
          "data": {
            "text/plain": [
              "5.703399999999999"
            ]
          },
          "metadata": {
            "tags": []
          },
          "execution_count": 14
        }
      ]
    },
    {
      "cell_type": "markdown",
      "metadata": {
        "id": "OGKHmJPCnWqt",
        "colab_type": "text"
      },
      "source": [
        "全ての要素の値を表示してみる。"
      ]
    },
    {
      "cell_type": "code",
      "metadata": {
        "id": "039mWrUlnYZl",
        "colab_type": "code",
        "colab": {
          "base_uri": "https://localhost:8080/",
          "height": 54
        },
        "outputId": "3d758ed8-42dd-4af0-9399-69dc2252e954"
      },
      "source": [
        "doc.values()"
      ],
      "execution_count": 81,
      "outputs": [
        {
          "output_type": "execute_result",
          "data": {
            "text/plain": [
              "dict_values(['5dd47d64cd0446b0dbbd1abf', {'A': 1.0, 'B': 2.0}, 5.703399999999999, {'GGA NSCF Uniform': 'mp-655516', 'GGA Structure Optimization': 'mp-604637'}, None, 'O-Si', \"# generated using pymatgen\\ndata_SiO2\\n_symmetry_space_group_name_H-M   'P 1'\\n_cell_length_a   5.05186371\\n_cell_length_b   5.05228454\\n_cell_length_c   5.13582199\\n_cell_angle_alpha   119.53417744\\n_cell_angle_beta   119.55136741\\n_cell_angle_gamma   89.99736465\\n_symmetry_Int_Tables_number   1\\n_chemical_formula_structural   SiO2\\n_chemical_formula_sum   'Si2 O4'\\n_cell_volume   93.95891867\\n_cell_formula_units_Z   2\\nloop_\\n _symmetry_equiv_pos_site_id\\n _symmetry_equiv_pos_as_xyz\\n  1  'x, y, z'\\nloop_\\n _atom_site_type_symbol\\n _atom_site_label\\n _atom_site_symmetry_multiplicity\\n _atom_site_fract_x\\n _atom_site_fract_y\\n _atom_site_fract_z\\n _atom_site_occupancy\\n  Si  Si0  1  0.004042  0.997981  0.998087  1\\n  Si  Si1  1  0.253937  0.747930  0.497858  1\\n  O  O2  1  0.220394  0.373128  0.251214  1\\n  O  O3  1  0.628869  0.964329  0.751383  1\\n  O  O4  1  0.125438  0.784461  0.744709  1\\n  O  O5  1  0.040783  0.871777  0.246811  1\\n\", {'primitive': \"# generated using pymatgen\\ndata_SiO2\\n_symmetry_space_group_name_H-M   'P 1'\\n_cell_length_a   5.12967931\\n_cell_length_b   5.12967931\\n_cell_length_c   5.12967931\\n_cell_angle_alpha   120.99840584\\n_cell_angle_beta   120.99840584\\n_cell_angle_gamma   88.27923784\\n_symmetry_Int_Tables_number   1\\n_chemical_formula_structural   SiO2\\n_chemical_formula_sum   'Si2 O4'\\n_cell_volume   93.95918813\\n_cell_formula_units_Z   2\\nloop_\\n _symmetry_equiv_pos_site_id\\n _symmetry_equiv_pos_as_xyz\\n  1  'x, y, z'\\nloop_\\n _atom_site_type_symbol\\n _atom_site_label\\n _atom_site_symmetry_multiplicity\\n _atom_site_fract_x\\n _atom_site_fract_y\\n _atom_site_fract_z\\n _atom_site_occupancy\\n  Si  Si0  1  0.750000  0.250000  0.500000  1\\n  Si  Si1  1  0.000000  0.000000  0.000000  1\\n  O  O2  1  0.785335  0.625000  0.660335  1\\n  O  O3  1  0.875000  0.214665  0.839665  1\\n  O  O4  1  0.375000  0.035335  0.160335  1\\n  O  O5  1  0.964665  0.125000  0.339665  1\\n\", 'refined': \"# generated using pymatgen\\ndata_SiO2\\n_symmetry_space_group_name_H-M   'P 1'\\n_cell_length_a   5.05207412\\n_cell_length_b   5.05207412\\n_cell_length_c   7.36257656\\n_cell_angle_alpha   90.00000000\\n_cell_angle_beta   90.00000000\\n_cell_angle_gamma   90.00000000\\n_symmetry_Int_Tables_number   1\\n_chemical_formula_structural   SiO2\\n_chemical_formula_sum   'Si4 O8'\\n_cell_volume   187.91837625\\n_cell_formula_units_Z   4\\nloop_\\n _symmetry_equiv_pos_site_id\\n _symmetry_equiv_pos_as_xyz\\n  1  'x, y, z'\\nloop_\\n _atom_site_type_symbol\\n _atom_site_label\\n _atom_site_symmetry_multiplicity\\n _atom_site_fract_x\\n _atom_site_fract_y\\n _atom_site_fract_z\\n _atom_site_occupancy\\n  Si  Si0  1  0.500000  0.000000  0.750000  1\\n  Si  Si1  1  0.500000  0.500000  0.500000  1\\n  Si  Si2  1  0.000000  0.500000  0.250000  1\\n  Si  Si3  1  0.000000  0.000000  0.000000  1\\n  O  O4  1  0.250000  0.410335  0.375000  1\\n  O  O5  1  0.589665  0.250000  0.625000  1\\n  O  O6  1  0.410335  0.750000  0.625000  1\\n  O  O7  1  0.750000  0.589665  0.375000  1\\n  O  O8  1  0.750000  0.910335  0.875000  1\\n  O  O9  1  0.089665  0.750000  0.125000  1\\n  O  O10  1  0.910335  0.250000  0.125000  1\\n  O  O11  1  0.250000  0.089665  0.875000  1\\n\", 'conventional_standard': \"# generated using pymatgen\\ndata_SiO2\\n_symmetry_space_group_name_H-M   'P 1'\\n_cell_length_a   5.05207412\\n_cell_length_b   5.05207412\\n_cell_length_c   7.36257656\\n_cell_angle_alpha   90.00000000\\n_cell_angle_beta   90.00000000\\n_cell_angle_gamma   90.00000000\\n_symmetry_Int_Tables_number   1\\n_chemical_formula_structural   SiO2\\n_chemical_formula_sum   'Si4 O8'\\n_cell_volume   187.91837625\\n_cell_formula_units_Z   4\\nloop_\\n _symmetry_equiv_pos_site_id\\n _symmetry_equiv_pos_as_xyz\\n  1  'x, y, z'\\nloop_\\n _atom_site_type_symbol\\n _atom_site_label\\n _atom_site_symmetry_multiplicity\\n _atom_site_fract_x\\n _atom_site_fract_y\\n _atom_site_fract_z\\n _atom_site_occupancy\\n  Si  Si0  1  0.500000  0.000000  0.750000  1\\n  Si  Si1  1  0.500000  0.500000  0.500000  1\\n  Si  Si2  1  0.000000  0.500000  0.250000  1\\n  Si  Si3  1  0.000000  0.000000  0.000000  1\\n  O  O4  1  0.250000  0.410335  0.375000  1\\n  O  O5  1  0.589665  0.250000  0.625000  1\\n  O  O6  1  0.410335  0.750000  0.625000  1\\n  O  O7  1  0.750000  0.589665  0.375000  1\\n  O  O8  1  0.750000  0.910335  0.875000  1\\n  O  O9  1  0.089665  0.750000  0.125000  1\\n  O  O10  1  0.910335  0.250000  0.125000  1\\n  O  O11  1  0.250000  0.089665  0.875000  1\\n\", 'computed': \"# generated using pymatgen\\ndata_SiO2\\n_symmetry_space_group_name_H-M   'P 1'\\n_cell_length_a   5.05186371\\n_cell_length_b   5.05228454\\n_cell_length_c   5.13582199\\n_cell_angle_alpha   119.53417744\\n_cell_angle_beta   119.55136741\\n_cell_angle_gamma   89.99736465\\n_symmetry_Int_Tables_number   1\\n_chemical_formula_structural   SiO2\\n_chemical_formula_sum   'Si2 O4'\\n_cell_volume   93.95891867\\n_cell_formula_units_Z   2\\nloop_\\n _symmetry_equiv_pos_site_id\\n _symmetry_equiv_pos_as_xyz\\n  1  'x, y, z'\\nloop_\\n _atom_site_type_symbol\\n _atom_site_label\\n _atom_site_symmetry_multiplicity\\n _atom_site_fract_x\\n _atom_site_fract_y\\n _atom_site_fract_z\\n _atom_site_occupancy\\n  Si  Si0  1  0.004042  0.997981  0.998087  1\\n  Si  Si1  1  0.253937  0.747930  0.497858  1\\n  O  O2  1  0.220394  0.373128  0.251214  1\\n  O  O3  1  0.628869  0.964329  0.751383  1\\n  O  O4  1  0.125438  0.784461  0.744709  1\\n  O  O5  1  0.040783  0.871777  0.246811  1\\n\"}, None, None, '2013-09-22 13:35:48', None, None, 2.1237435945024057, False, 0, -0.65692075, ['Si', 'O'], 520, -47.49120119, -7.915200198333333, -3.2891510158333332, 'Si2O4', ['phonons', 'elasticity', 'xas', 'piezo', 'diel'], False, {}, None, [162246, 162619, 162660, 75648, 162618], {'@module': 'pymatgen.core.structure', '@class': 'Structure', 'charge': None, 'lattice': {'matrix': [[4.370627, 0.0, -2.492308], [-1.421214, 4.133102, -2.492308], [0.0, 0.0, 5.078422]], 'a': 5.0312999850926206, 'b': 5.031300084775703, 'c': 5.078422, 'alpha': 119.69353376371569, 'beta': 119.69353441103988, 'gamma': 89.99999346852496, 'volume': 91.73787036829268}, 'sites': [{'species': [{'element': 'Si', 'occu': 1}], 'abc': [0.007592, 0.994848, 0.005164], 'xyz': [-1.3807101052879998, 4.111808258496, -2.4721642603119998], 'label': 'Si', 'properties': {}}, {'species': [{'element': 'Si', 'occu': 1}], 'abc': [0.254312, 0.760348, 0.502161], 'xyz': [0.030885671151999805, 3.1425958394960003, 0.02134023466199997], 'label': 'Si', 'properties': {}}, {'species': [{'element': 'O', 'occu': 1}], 'abc': [0.221007, 0.371966, 0.255455], 'xyz': [0.437295874665, 1.537373418532, -0.18056305967400021], 'label': 'O', 'properties': {}}, {'species': [{'element': 'O', 'occu': 1}], 'abc': [0.621733, 0.959553, 0.738122], 'xyz': [1.3536328792489998, 3.965930423406, -0.1925567446040004], 'label': 'O', 'properties': {}}, {'species': [{'element': 'O', 'occu': 1}], 'abc': [0.119558, 0.777923, 0.738006], 'xyz': [-0.583051635656, 3.2152351071460004, 1.511106830384], 'label': 'O', 'properties': {}}, {'species': [{'element': 'O', 'occu': 1}], 'abc': [0.049261, 0.874967, 0.251153], 'xyz': [-1.028213893291, 3.6163278576340003, -1.027999917658], 'label': 'O', 'properties': {}}]}, {'incar': {'ALGO': 'Fast', 'EDIFF': 0.0003, 'ENCUT': 520, 'IBRION': 2, 'ICHARG': 1, 'ISIF': 3, 'ISMEAR': -5, 'ISPIN': 2, 'LORBIT': 11, 'LREAL': 'Auto', 'LWAVE': False, 'MAGMOM': [0.6, 0.6, 0.6, 0.6, 0.6, 0.6], 'NELM': 100, 'NPAR': 2, 'NSW': 99, 'PREC': 'Accurate', 'SIGMA': 0.2, '@module': 'pymatgen.io.vasp.inputs', '@class': 'Incar'}, 'kpoints': {'comment': 'Automatic kpoint scheme', 'nkpoints': 0, 'generation_style': 'Monkhorst', 'kpoints': [[6, 6, 5]], 'usershift': [0, 0, 0], 'kpts_weights': None, 'coord_type': None, 'labels': None, 'tet_number': 0, 'tet_weight': 0, 'tet_connections': None, '@module': 'pymatgen.io.vasp.inputs', '@class': 'Kpoints'}, 'potcar_spec': [{'titel': 'PAW_PBE Si 05Jan2001', 'hash': 'b2b0ea6feb62e7cde209616683b8f7f5'}, {'titel': 'PAW_PBE O 08Apr2002', 'hash': '7a25bc5b9a5393f46600a4939d357982'}]}, None, True, False, True, 'NM', 2, None, 6, 12, 'mp-546794', 'oxide', 'SiO2', {'functional': 'PBE', 'labels': ['Si', 'O'], 'pot_type': 'paw'}, {'Si': 1.0, 'O': 2.0}, None, 'GGA', {'@module': 'pymatgen.util.provenance', '@class': 'StructureNL', 'charge': None, 'lattice': {'matrix': [[4.38651047, -0.00267709, -2.50596202], [-1.42859501, 4.14811875, -2.50555506], [0.01678422, 0.02438538, 5.13573667]], 'a': 5.051863707179062, 'b': 5.052284535276103, 'c': 5.135821988774674, 'alpha': 119.53417744022549, 'beta': 119.55136740728105, 'gamma': 89.99736465326866, 'volume': 93.95891867487768}, 'sites': [{'species': [{'element': 'Si', 'occu': 1}], 'abc': [0.00404184, 0.99798111, 0.99808688], 'xyz': [-1.3912291505691627, 4.164072062009182, 2.6152860719860564], 'label': 'Si', 'properties': {'magmom': 0.0}}, {'species': [{'element': 'Si', 'occu': 1}], 'abc': [0.25393695, 0.7479298, 0.49785771], 'xyz': [0.053764463117904754, 3.113962264438554, 0.04653045059979899], 'label': 'Si', 'properties': {'magmom': 0.0}}, {'species': [{'element': 'O', 'occu': 1}], 'abc': [0.22039425, 0.37312759, 0.25121396], 'xyz': [0.43792990235718293, 1.553313484854485, -0.19702259468857708], 'label': 'O', 'properties': {'magmom': 0.0}}, {'species': [{'element': 'O', 'occu': 1}], 'abc': [0.62886918, 0.96432851, 0.75138251], 'xyz': [1.3935177142955717, 4.016788382129181, -0.13319774855766253], 'label': 'O', 'properties': {'magmom': 0.0}}, {'species': [{'element': 'O', 'occu': 1}], 'abc': [0.1254378, 0.78446147, 0.74470901], 'xyz': [-0.5579441586856764, 3.2718635362778348, 1.5447756029305024], 'label': 'O', 'properties': {'magmom': 0.0}}, {'species': [{'element': 'O', 'occu': 1}], 'abc': [0.04078297, 0.87177651, 0.24681093], 'xyz': [-1.0623781181709946, 3.622141885575609, -1.0189286759446365], 'label': 'O', 'properties': {'magmom': 0.0}}], 'about': {'authors': [{'name': 'Materials Project', 'email': 'feedback@materialsproject.org'}], 'projects': ['ICSD'], 'references': '@article{Coh2008,\\n    author = \"Coh, S. and Vanderbilt, D.\",\\n    title = \"Structural stability and lattice dynamics of Si O2 cristobalite\",\\n    journal = \"Physical Review, Serie 3. B - Condensed Matter (18,1978-)\",\\n    year = \"2008\",\\n    volume = \"78\",\\n    pages = \"054117-1-054117-14\",\\n    ASTM_id = \"PRBMDO\"\\n}\\n\\n@article{Demuth1999,\\n    author = \"Demuth, T. and Jeanvoine, Y. and Hafner, J. and Angyan, J.G.\",\\n    title = \"Polymorphism in silica studied in the local density and generalized-gradient approximations\",\\n    journal = \"Journal of Physics: Condensed Matter\",\\n    year = \"1999\",\\n    volume = \"11\",\\n    pages = \"3833-3874\",\\n    ASTM_id = \"JCOMEL\"\\n}\\n\\n@article{Wright1975,\\n    author = \"Wright, A.F. and Leadbetter, A.J.\",\\n    title = \"The structure of the beta-cristobalite phases of Si O2 and Al P O4\",\\n    journal = \"Philosophical Magazine, Serie 6 (1901-1925)\",\\n    year = \"1975\",\\n    volume = \"31\",\\n    pages = \"1391-1401\",\\n    ASTM_id = \"PHMAA4\"\\n}\\n\\n@article{Boisen1994,\\n    author = \"Boisen, M.B.jr. and Gibbs, G.V. and Bukowinski, M.S.T.\",\\n    title = \"Framework silica structures generated using simulated annealing with a potential energy function based on an H6 Si2 O7 molecule\",\\n    journal = \"Physics and Chemistry of Minerals\",\\n    year = \"1994\",\\n    volume = \"21\",\\n    pages = \"269-284\",\\n    ASTM_id = \"PCMIDU\"\\n}\\n', 'remarks': ['Cristobalite beta', 'Silicon oxide - cristobalite beta'], 'history': [{'name': 'ICSD', 'url': 'https://icsd.fiz-karlsruhe.de/', 'description': {'id': '162246', 'experimental': False}}, {'name': 'Materials Project Optimized Structure', 'url': 'http://www.materialsproject.org', 'description': {}}], 'created_at': '2017-07-18 08:45:12.787940', '_db_ids': {'icsd_ids': ['162246', '162619', '162660', '75648', '162618']}, '_tags': ['Silicon dioxide', 'Silicon oxide', 'Cristobalite beta', 'Silicon oxide - cristobalite beta'], '_experimental': True}}, {'@module': 'pymatgen.util.provenance', '@class': 'StructureNL', 'charge': None, 'lattice': {'matrix': [[4.38651047, -0.00267709, -2.50596202], [-1.42859501, 4.14811875, -2.50555506], [0.01678422, 0.02438538, 5.13573667]], 'a': 5.051863707179062, 'b': 5.052284535276103, 'c': 5.135821988774674, 'alpha': 119.53417744022549, 'beta': 119.55136740728105, 'gamma': 89.99736465326866, 'volume': 93.95891867487768}, 'sites': [{'species': [{'element': 'Si', 'occu': 1}], 'abc': [0.00404184, 0.99798111, 0.99808688], 'xyz': [-1.3912291505691627, 4.164072062009182, 2.6152860719860564], 'label': 'Si', 'properties': {'magmom': 0.0}}, {'species': [{'element': 'Si', 'occu': 1}], 'abc': [0.25393695, 0.7479298, 0.49785771], 'xyz': [0.053764463117904754, 3.113962264438554, 0.04653045059979899], 'label': 'Si', 'properties': {'magmom': 0.0}}, {'species': [{'element': 'O', 'occu': 1}], 'abc': [0.22039425, 0.37312759, 0.25121396], 'xyz': [0.43792990235718293, 1.553313484854485, -0.19702259468857708], 'label': 'O', 'properties': {'magmom': 0.0}}, {'species': [{'element': 'O', 'occu': 1}], 'abc': [0.62886918, 0.96432851, 0.75138251], 'xyz': [1.3935177142955717, 4.016788382129181, -0.13319774855766253], 'label': 'O', 'properties': {'magmom': 0.0}}, {'species': [{'element': 'O', 'occu': 1}], 'abc': [0.1254378, 0.78446147, 0.74470901], 'xyz': [-0.5579441586856764, 3.2718635362778348, 1.5447756029305024], 'label': 'O', 'properties': {'magmom': 0.0}}, {'species': [{'element': 'O', 'occu': 1}], 'abc': [0.04078297, 0.87177651, 0.24681093], 'xyz': [-1.0623781181709946, 3.622141885575609, -1.0189286759446365], 'label': 'O', 'properties': {'magmom': 0.0}}], 'about': {'authors': [{'name': 'Materials Project', 'email': 'feedback@materialsproject.org'}], 'projects': ['ICSD'], 'references': '@article{Coh2008,\\n    author = \"Coh, S. and Vanderbilt, D.\",\\n    title = \"Structural stability and lattice dynamics of Si O2 cristobalite\",\\n    journal = \"Physical Review, Serie 3. B - Condensed Matter (18,1978-)\",\\n    year = \"2008\",\\n    volume = \"78\",\\n    pages = \"054117-1-054117-14\",\\n    ASTM_id = \"PRBMDO\"\\n}\\n\\n@article{Demuth1999,\\n    author = \"Demuth, T. and Jeanvoine, Y. and Hafner, J. and Angyan, J.G.\",\\n    title = \"Polymorphism in silica studied in the local density and generalized-gradient approximations\",\\n    journal = \"Journal of Physics: Condensed Matter\",\\n    year = \"1999\",\\n    volume = \"11\",\\n    pages = \"3833-3874\",\\n    ASTM_id = \"JCOMEL\"\\n}\\n\\n@article{Wright1975,\\n    author = \"Wright, A.F. and Leadbetter, A.J.\",\\n    title = \"The structure of the beta-cristobalite phases of Si O2 and Al P O4\",\\n    journal = \"Philosophical Magazine, Serie 6 (1901-1925)\",\\n    year = \"1975\",\\n    volume = \"31\",\\n    pages = \"1391-1401\",\\n    ASTM_id = \"PHMAA4\"\\n}\\n\\n@article{Boisen1994,\\n    author = \"Boisen, M.B.jr. and Gibbs, G.V. and Bukowinski, M.S.T.\",\\n    title = \"Framework silica structures generated using simulated annealing with a potential energy function based on an H6 Si2 O7 molecule\",\\n    journal = \"Physics and Chemistry of Minerals\",\\n    year = \"1994\",\\n    volume = \"21\",\\n    pages = \"269-284\",\\n    ASTM_id = \"PCMIDU\"\\n}\\n', 'remarks': ['Cristobalite beta', 'Silicon oxide - cristobalite beta'], 'history': [{'name': 'ICSD', 'url': 'https://icsd.fiz-karlsruhe.de/', 'description': {'id': '162246', 'experimental': False}}, {'name': 'Materials Project Optimized Structure', 'url': 'http://www.materialsproject.org', 'description': {}}], 'created_at': '2017-07-18 08:45:12.787940', '_db_ids': {'icsd_ids': ['162246', '162619', '162660', '75648', '162618']}, '_tags': ['Silicon dioxide', 'Silicon oxide', 'Cristobalite beta', 'Silicon oxide - cristobalite beta'], '_experimental': True}}, None, None, None, {'symprec': 0.1, 'source': 'spglib', 'symbol': 'I-42d', 'number': 122, 'point_group': '-42m', 'crystal_system': 'tetragonal', 'hall': 'I -4 2bw'}, {'@module': 'pymatgen.core.structure', '@class': 'Structure', 'charge': None, 'lattice': {'matrix': [[4.38651047, -0.00267709, -2.50596202], [-1.42859501, 4.14811875, -2.50555506], [0.01678422, 0.02438538, 5.13573667]], 'a': 5.051863707179062, 'b': 5.052284535276103, 'c': 5.135821988774674, 'alpha': 119.53417744022549, 'beta': 119.55136740728105, 'gamma': 89.99736465326866, 'volume': 93.95891867487768}, 'sites': [{'species': [{'element': 'Si', 'occu': 1}], 'abc': [0.00404184, 0.99798111, 0.99808688], 'xyz': [-1.3912291505691627, 4.164072062009182, 2.6152860719860564], 'label': 'Si', 'properties': {'magmom': 0.0}}, {'species': [{'element': 'Si', 'occu': 1}], 'abc': [0.25393695, 0.7479298, 0.49785771], 'xyz': [0.053764463117904754, 3.113962264438554, 0.04653045059979899], 'label': 'Si', 'properties': {'magmom': 0.0}}, {'species': [{'element': 'O', 'occu': 1}], 'abc': [0.22039425, 0.37312759, 0.25121396], 'xyz': [0.43792990235718293, 1.553313484854485, -0.19702259468857708], 'label': 'O', 'properties': {'magmom': 0.0}}, {'species': [{'element': 'O', 'occu': 1}], 'abc': [0.62886918, 0.96432851, 0.75138251], 'xyz': [1.3935177142955717, 4.016788382129181, -0.13319774855766253], 'label': 'O', 'properties': {'magmom': 0.0}}, {'species': [{'element': 'O', 'occu': 1}], 'abc': [0.1254378, 0.78446147, 0.74470901], 'xyz': [-0.5579441586856764, 3.2718635362778348, 1.5447756029305024], 'label': 'O', 'properties': {'magmom': 0.0}}, {'species': [{'element': 'O', 'occu': 1}], 'abc': [0.04078297, 0.87177651, 0.24681093], 'xyz': [-1.0623781181709946, 3.622141885575609, -1.0189286759446365], 'label': 'O', 'properties': {'magmom': 0.0}}]}, 'mp-546794', ['mp-655516', 'mp-658400', 'mp-655495', 'mp-604637', 'mp-547211', 'mp-546794', 'mp-1094058', 'mp-1138699', 'mp-1141621', 'mp-1145623', 'mp-1114739'], 0.0, {'Si': 2.0, 'O': 4.0}, None, 93.95891867487768, [], {'Ag': {'meta': ['amplitude', 'hkl', 'two_theta', 'd_spacing'], 'created_at': '2019-11-14T10:01:56.703721', 'wavelength': {'element': 'Ag', 'in_angstroms': 0.560885}, 'pattern': [[100.0, [1, 0, 1], 7.712176213200705, 4.170109110486963], [24.82151551446452, [1, 1, 2], 12.545498958010736, 2.566707824527945], [3.986311430336096, [2, 0, 0], 12.737621165892621, 2.5281500247829776], [0.6129400040283008, [1, 0, 3], 14.576524142726608, 2.210621180486745], [6.714290408394315, [2, 1, 1], 14.90699430125994, 2.161881997271039], [6.393329453083196, [2, 0, 2], 15.459564287315578, 2.0850545552434814], [0.004554121390702229, [0, 0, 4], 17.500308193841374, 1.843487754719135], [0.9159145050440103, [2, 2, 0], 18.05120682195117, 1.7876720263809818], [15.362685442009857, [2, 1, 3], 19.403502759534092, 1.664154496384739], [2.205775076122212, [3, 0, 1], 19.65505888274137, 1.6430610309710676], [2.540239479737498, [3, 1, 0], 20.202998732267993, 1.5989424689850689], [5.936448449965489, [2, 0, 4], 21.70422358186791, 1.4895393578907905], [7.523391036029515, [3, 1, 2], 22.04279721860589, 1.4669367075300759], [0.33815451110320544, [1, 0, 5], 22.849546484883664, 1.4157958843238736], [1.7038579510417993, [3, 0, 3], 23.278849991867858, 1.3900363701623208], [4.248879299705917, [3, 2, 1], 23.490720559996905, 1.37767291511028], [4.568658047005075, [2, 2, 4], 25.244606969916727, 1.2833539122639726], [1.564884944863283, [4, 0, 0], 25.636124744931738, 1.2640750123914888], [5.3463730447617746, [2, 1, 5], 26.244177527927718, 1.2352837877661595], [2.3817024362559134, [3, 2, 3], 26.621991649113838, 1.2180627366459382], [4.846314789839741, [4, 1, 1], 26.80904593029169, 1.2097179760209138], [1.512996683053895, [3, 1, 4], 26.850219610082796, 1.207896920223384], [0.7973008363591408, [4, 0, 2], 27.128166469046164, 1.1957497054763306], [2.053946685566691, [1, 1, 6], 27.925842135569386, 1.16224437641006], [2.5910265196203057, [3, 3, 2], 28.63579544720367, 1.134009609820211], [3.1652715012929025, [4, 2, 0], 28.723407774855968, 1.1306230625465032], [0.8213737490234992, [3, 0, 5], 29.27207769912124, 1.1098809811187687], [0.46227413114968136, [2, 0, 6], 29.395836697547047, 1.1053105902433724], [0.68829274569848, [4, 1, 3], 29.614222844280427, 1.097339896028198], [0.008797032493418885, [4, 2, 2], 30.074020333878853, 1.0809409986355194], [0.8592713855143815, [4, 0, 4], 31.209843228080732, 1.0425272776217407], [1.2107711122263787, [1, 0, 7], 31.55910613601055, 1.0312780469397447], [1.2306696002182191, [3, 2, 5], 32.037871641012686, 1.0162615971735387], [1.2525604525064895, [5, 0, 1], 32.510327795966106, 1.0018825702656968], [0.0033274841467916157, [5, 1, 0], 32.85619819051434, 0.9916220238198834]]}, 'Mo': {'meta': ['amplitude', 'hkl', 'two_theta', 'd_spacing'], 'created_at': '2019-11-14T10:01:56.704460', 'wavelength': {'element': 'Mo', 'in_angstroms': 0.71073}, 'pattern': [[100.0, [1, 0, 1], 9.777029051789356, 4.170109110486963], [24.65623070078759, [1, 1, 2], 15.916522612421788, 2.566707824527945], [3.9584640720595274, [2, 0, 0], 16.160881530180916, 2.5281500247829776], [0.6065992700009781, [1, 0, 3], 18.50126467019333, 2.210621180486745], [6.640486751631025, [2, 1, 1], 18.922161196765497, 2.161881997271039], [6.315949134938269, [2, 0, 2], 19.626152653508345, 2.0850545552434814], [0.004478914516474723, [0, 0, 4], 22.228703195271827, 1.843487754719135], [0.8996251323041909, [2, 2, 0], 22.932007385495464, 1.7876720263809818], [15.039422037605563, [2, 1, 3], 24.659874926202047, 1.664154496384739], [2.157978049275124, [3, 0, 1], 24.98153445284263, 1.6430610309710676], [2.4816699599629777, [3, 1, 0], 25.68244422034162, 1.5989424689850689], [5.7761177698895185, [2, 0, 4], 27.60475519682488, 1.4895393578907905], [7.31327851606027, [3, 1, 2], 28.03871703351507, 1.4669367075300759], [0.32795547792565943, [1, 0, 5], 29.073409315453265, 1.4157958843238736], [1.6504051255402723, [3, 0, 3], 29.62439598152604, 1.3900363701623208], [4.113022430679883, [3, 2, 1], 29.89642102197435, 1.37767291511028], [4.399163171242828, [2, 2, 4], 32.15094735675915, 1.2833539122639726], [1.504991546140371, [4, 0, 0], 32.654900012730806, 1.2640750123914888], [5.131897977936023, [2, 1, 5], 33.43808425865539, 1.2352837877661595], [2.283404297737453, [3, 2, 3], 33.92503766197645, 1.2180627366459382], [4.643507692955231, [4, 1, 1], 34.1662191905439, 1.2097179760209138], [1.4494892107417763, [3, 1, 4], 34.219315488822794, 1.207896920223384], [0.7631493191262496, [4, 0, 2], 34.577826412168854, 1.1957497054763306], [1.9608579600711, [1, 1, 6], 35.60749217251397, 1.16224437641006], [2.467795585532229, [3, 3, 2], 36.52492386364545, 1.134009609820211], [3.0138501086515994, [4, 2, 0], 36.63820716156923, 1.1306230625465032], [0.7806469603541846, [3, 0, 5], 37.34798219691126, 1.1098809811187687], [0.43917020654767874, [2, 0, 6], 37.50816265945467, 1.1053105902433724], [0.6534120221183605, [4, 1, 3], 37.79089330481657, 1.097339896028198], [0.00833825180972936, [4, 2, 2], 38.386480117449416, 1.0809409986355194], [0.8113124907552786, [4, 0, 4], 39.85962720266806, 1.0425272776217407], [1.1418262697543875, [1, 0, 7], 40.31317252421549, 1.0312780469397447], [1.158684886947773, [3, 2, 5], 40.93532436042172, 1.0162615971735387], [1.17738010837882, [5, 0, 1], 41.549782274273674, 1.0018825702656968], [0.003124042096659012, [5, 1, 0], 41.999931747011956, 0.9916220238198834], [1.7785623766811665, [3, 1, 6], 42.777846406211744, 0.9744122235058019], [0.6178975954114929, [4, 2, 4], 43.2725793900143, 0.9637974194732799], [1.7816051183063673, [5, 1, 2], 43.56725066274306, 0.9575926648580689], [0.41739652566956004, [2, 1, 7], 43.69698071461507, 0.9548882505506321], [0.36375397545166094, [4, 1, 5], 44.280236394471615, 0.9429305741489018], [1.7238863681291097, [5, 0, 3], 44.66571055029053, 0.93520392592251], [1.732388823888494, [5, 2, 1], 44.85746593115732, 0.9314111559857838]]}, 'Fe': {'meta': ['amplitude', 'hkl', 'two_theta', 'd_spacing'], 'created_at': '2019-11-14T10:01:56.705347', 'wavelength': {'element': 'Fe', 'in_angstroms': 1.93735}, 'pattern': [[100.0, [1, 0, 1], 26.863872430724633, 4.170109110486963], [22.186589878497376, [1, 1, 2], 44.345425056106905, 2.566707824527945], [3.5447999871044846, [2, 0, 0], 45.05857844478647, 2.5281500247829776], [0.5183437759369109, [1, 0, 3], 51.97707338420148, 2.210621180486745], [5.627215577447088, [2, 1, 1], 53.239880473996934, 2.161881997271039], [5.279330286067222, [2, 0, 2], 55.36610953260168, 2.0850545552434814], [0.003578443515940014, [0, 0, 4], 63.398133021195825, 1.843487754719135], [0.7118144949640772, [2, 2, 0], 65.62123078245486, 1.7876720263809818], [11.705521391743142, [2, 1, 3], 71.19427882597557, 1.664154496384739], [1.6769082663295576, [3, 0, 1], 72.25088530358147, 1.6430610309710676], [1.9254369039253363, [3, 1, 0], 74.57607403487009, 1.5989424689850689], [4.537156172461384, [2, 0, 4], 81.13123933496183, 1.4895393578907905], [5.78389685750122, [3, 1, 2], 82.65141003116366, 1.4669367075300759], [0.2655041197284994, [1, 0, 5], 86.34405609380613, 1.4157958843238736], [1.3589189695972088, [3, 0, 3], 88.35288073549374, 1.3900363701623208], [3.419224063453687, [3, 2, 1], 89.35637963557173, 1.37767291511028], [4.100272994442572, [2, 2, 4], 98.01572201116652, 1.2833539122639726], [1.4525129287482519, [4, 0, 0], 100.04758989564105, 1.2640750123914888], [5.267299660040444, [2, 1, 5], 103.28833243320106, 1.2352837877661595], [2.446480900367381, [3, 2, 3], 105.35939647376547, 1.2180627366459382], [5.089060483901985, [4, 1, 1], 106.40250908154427, 1.2097179760209138], [1.596705965942904, [3, 1, 4], 106.63376627376925, 1.207896920223384], [0.8711953050528489, [4, 0, 2], 108.21110550476608, 1.1957497054763306], [2.509782991145047, [1, 1, 6], 112.91000236568158, 1.16224437641006], [3.5536923908173668, [3, 3, 2], 117.34370829615227, 1.134009609820211], [4.408567116133008, [4, 2, 0], 117.90990733847359, 1.1306230625465032], [1.2673595596290088, [3, 0, 5], 121.56517239764536, 1.1098809811187687], [0.7310681896972803, [2, 0, 6], 122.41806786465813, 1.1053105902433724], [1.1385653282735257, [4, 1, 3], 123.95139081246536, 1.097339896028198], [0.01610505690059541, [4, 2, 2], 127.31060085878981, 1.0809409986355194], [2.1256740640292384, [4, 0, 4], 136.60860686746085, 1.0425272776217407], [3.354064914034239, [1, 0, 7], 139.86721432448928, 1.0312780469397447], [4.0835561493805415, [3, 2, 5], 144.79400759521417, 1.0162615971735387], [5.200681256892505, [5, 0, 1], 150.41410675862537, 1.0018825702656968], [0.01718220775492638, [5, 1, 0], 155.29989496038843, 0.9916220238198834], [20.79165465029388, [3, 1, 6], 167.55885164994345, 0.9744122235058019]]}, 'Cu': {'meta': ['amplitude', 'hkl', 'two_theta', 'd_spacing'], 'created_at': '2019-11-14T10:01:56.705954', 'wavelength': {'element': 'Cu', 'in_angstroms': 1.54184}, 'pattern': [[100.0, [1, 0, 1], 21.30688073994639, 4.170109110486963], [23.14268291471869, [1, 1, 2], 34.957687811749224, 2.566707824527945], [3.7042264619060643, [2, 0, 0], 35.50843883624868, 2.5281500247829776], [0.5505670023412376, [1, 0, 3], 40.819869087494865, 2.210621180486745], [5.99261706817916, [2, 1, 1], 41.78266921097691, 2.161881997271039], [5.6445992544810775, [2, 0, 2], 43.398689198659525, 2.0850545552434814], [0.0038586833446994416, [0, 0, 4], 49.440177204450976, 1.843487754719135], [0.7674189154192399, [2, 2, 0], 51.09286544038977, 1.7876720263809818], [12.529573345252397, [2, 1, 3], 55.19408083288827, 1.664154496384739], [1.7902535208739314, [3, 0, 1], 55.96442413724777, 1.6430610309710676], [2.0404316980560733, [3, 1, 0], 57.6510054499078, 1.5989424689850689], [4.645834263606439, [2, 0, 4], 62.33690739596952, 1.4895393578907905], [5.857105247171495, [3, 1, 2], 63.40792795157672, 1.4669367075300759], [0.26033914514248524, [1, 0, 5], 65.98285106274709, 1.4157958843238736], [1.3051274001021866, [3, 0, 3], 67.36691388039416, 1.3900363701623208], [3.2472424418191883, [3, 2, 1], 68.05369350398513, 1.37767291511028], [3.453861687721102, [2, 2, 4], 73.84113507826858, 1.2833539122639726], [1.1828465261795853, [4, 0, 0], 75.16004410078766, 1.2640750123914888], [4.04812284539447, [2, 1, 5], 77.2298734484928, 1.2352837877661595], [1.8076731248619637, [3, 2, 3], 78.52979316841147, 1.2180627366459382], [3.6841062395200503, [4, 1, 1], 79.17747225168358, 1.2097179760209138], [1.150604344168174, [3, 1, 4], 79.32040923673463, 1.207896920223384], [0.6081304868147291, [4, 0, 2], 80.28890041773813, 1.1957497054763306], [1.5858269327468402, [1, 1, 6], 83.1045111113326, 1.16224437641006], [2.032504702482828, [3, 3, 2], 85.65882514760582, 1.134009609820211], [2.488712482197438, [4, 2, 0], 85.97740286041918, 1.1306230625465032], [0.6564540270493046, [3, 0, 5], 87.99022404903693, 1.1098809811187687], [0.37099159102646573, [2, 0, 6], 88.44860368608924, 1.1053105902433724], [0.5566742134228153, [4, 1, 3], 89.26153218529083, 1.097339896028198], [0.007245066689271266, [4, 2, 2], 90.99067554269433, 1.0809409986355194], [0.7485476470827971, [4, 0, 4], 95.372958870713, 1.0425272776217407], [1.076817447743355, [1, 0, 7], 96.7551979536729, 1.0312780469397447], [1.1291430194403107, [3, 2, 5], 98.67908674420626, 1.0162615971735387], [1.188946639749516, [5, 0, 1], 100.61289234604065, 1.0018825702656968], [0.003244851394860048, [5, 1, 0], 102.05233884685882, 0.9916220238198834], [1.947782448837381, [3, 1, 6], 104.58886959805864, 0.9744122235058019], [0.7018829778900201, [4, 2, 4], 106.23683779064592, 0.9637974194732799], [2.070571600402676, [5, 1, 2], 107.23219111790713, 0.9575926648580689], [0.4901323982409111, [2, 1, 7], 107.67380658202109, 0.9548882505506321], [0.44834638385586706, [4, 1, 5], 109.6862933499905, 0.9429305741489018], [2.197962457878392, [5, 0, 3], 111.04196917196421, 0.93520392592251], [2.2475766134936603, [5, 2, 1], 111.72440833857279, 0.9314111559857838], [0.7018935340278107, [0, 0, 8], 113.51776862431514, 0.9217438773595675], [0.1470910459832279, [4, 4, 0], 119.19346918914317, 0.8938360131904909], [0.4318150268511929, [3, 0, 7], 119.31216045656033, 0.8932935790565929], [0.3403168848596459, [4, 0, 6], 122.06198400670725, 0.8811704432182805], [0.47025287785340814, [5, 2, 3], 123.02614796813096, 0.8771159648035961], [0.006609785063392074, [5, 1, 4], 123.95651158445928, 0.8732971872485709], [0.258081170517466, [5, 3, 0], 125.50297076221707, 0.8671483045565586], [0.6328088322182368, [2, 0, 8], 125.8032350750586, 0.8659826720237562], [1.6080790884211582, [3, 3, 6], 128.59573378701094, 0.8555692748426483], [2.2884229262686113, [5, 3, 2], 131.9271176112546, 0.844116202154692], [0.035939223239645386, [6, 0, 0], 132.35561856753455, 0.8427166749276592], [1.4424811083570135, [3, 2, 7], 132.4959078385181, 0.8422620406812402], [2.732140947240089, [5, 0, 5], 135.13818112243516, 0.8340218220973926], [0.0071922804997455675, [4, 2, 6], 135.79143754493708, 0.8320772481923695], [0.3698219592515692, [6, 1, 1], 137.90912279798584, 0.8260188186717055], [0.5537773207892867, [2, 2, 8], 140.44138792759574, 0.8192534532134546], [1.48622001982635, [1, 0, 9], 144.79993199953685, 0.8087785279152973], [3.12868547476441, [4, 4, 4], 146.8790016237718, 0.8042821833314946], [2.3006255111312757, [6, 2, 0], 149.28293754884706, 0.7994712344925344], [3.691553693322659, [4, 1, 7], 149.48627626051766, 0.7990830295585354], [1.0786399982773716, [3, 1, 8], 149.7639913158065, 0.7985574971676654], [0.8766896192377291, [5, 2, 5], 153.48019613367617, 0.7920359694591782], [4.376370646287211, [6, 1, 3], 156.48587732302417, 0.7874402061361234], [0.9551603861516618, [5, 4, 1], 158.13325734442313, 0.7851721228611206], [1.2175764404932727, [5, 3, 4], 158.51344241066667, 0.7846735447985106], [1.5404686387910769, [6, 2, 2], 161.2874068004198, 0.7813142497112402], [20.053731502330294, [5, 1, 6], 174.72284093737662, 0.7717381978979998]]}, 'Cr': {'meta': ['amplitude', 'hkl', 'two_theta', 'd_spacing'], 'created_at': '2019-11-14T10:01:56.707036', 'wavelength': {'element': 'Cr', 'in_angstroms': 2.291}, 'pattern': [[100.0, [1, 0, 1], 31.887445850229273, 4.170109110486963], [21.34236399179679, [1, 1, 2], 53.012002152133576, 2.566707824527945], [3.405765049791036, [2, 0, 0], 53.88525989752956, 2.5281500247829776], [0.4947234544019151, [1, 0, 3], 62.420516174498566, 2.210621180486745], [5.371775005776576, [2, 1, 1], 63.99231747005293, 2.161881997271039], [5.047896205696767, [2, 0, 2], 66.64981473820919, 2.0850545552434814], [0.003512271802268038, [0, 0, 4], 76.83344971203974, 1.843487754719135], [0.7088008756157576, [2, 2, 0], 79.69963936046688, 1.7876720263809818], [12.295155550480615, [2, 1, 3], 86.99730764338595, 1.664154496384739], [1.784680311100565, [3, 0, 1], 88.4014774696109, 1.6430610309710676], [2.1168644329534536, [3, 1, 0], 91.51791353006902, 1.5989424689850689], [5.614806733757978, [2, 0, 4], 100.53367241683003, 1.4895393578907905], [7.397422394173359, [3, 1, 2], 102.6822441675083, 1.4669367075300759], [0.370879290984325, [1, 0, 5], 108.01336745686123, 1.4157958843238736], [2.0008992237859755, [3, 0, 3], 110.9904854305409, 1.3900363701623208], [5.174997324685544, [3, 2, 1], 112.50102337302447, 1.37767291511028], [8.16170198176172, [2, 2, 4], 126.39930644849154, 1.2833539122639726], [3.1210030883592426, [4, 0, 0], 129.9697579440792, 1.2640750123914888], [12.990577673729613, [2, 1, 5], 136.0408321138043, 1.2352837877661595], [6.690819080289595, [3, 2, 3], 140.2470322217577, 1.2180627366459382], [14.760358667150337, [4, 1, 1], 142.49457812571308, 1.2097179760209138], [4.695443962826673, [3, 1, 4], 143.00681068768915, 1.207896920223384], [2.8414312304541833, [4, 0, 2], 146.6614286886986, 1.1957497054763306], [13.874838986888157, [1, 1, 6], 160.52505789663718, 1.16224437641006]]}, 'Co': {'meta': ['amplitude', 'hkl', 'two_theta', 'd_spacing'], 'created_at': '2019-11-14T10:01:56.707433', 'wavelength': {'element': 'Co', 'in_angstroms': 1.79026}, 'pattern': [[100.0, [1, 0, 1], 24.79044117808842, 4.170109110486963], [22.54916815354493, [1, 1, 2], 40.82131158192072, 2.566707824527945], [3.605097351489894, [2, 0, 0], 41.47232976217818, 2.5281500247829776], [0.5301202706130301, [1, 0, 3], 47.77252691377949, 2.210621180486745], [5.759637887564877, [2, 1, 1], 48.919170055190115, 2.161881997271039], [5.409563216781758, [2, 0, 2], 50.84726762865834, 2.0850545552434814], [0.0036686554266966106, [0, 0, 4], 58.098769931770455, 1.843487754719135], [0.7288546623063792, [2, 2, 0], 60.09580074277762, 1.7876720263809818], [11.905470294727095, [2, 1, 3], 65.08006595743579, 1.664154496384739], [1.7022382343467988, [3, 0, 1], 66.02119223222509, 1.6430610309710676], [1.944518736064969, [3, 1, 0], 68.08756815755322, 1.5989424689850689], [4.4849792673895905, [2, 0, 4], 73.87509828523316, 1.4895393578907905], [5.680036876734864, [3, 1, 2], 75.20844614583734, 1.4669367075300759], [0.25595313043441503, [1, 0, 5], 78.4319126277478, 1.4157958843238736], [1.2948983476011058, [3, 0, 3], 80.17572391690196, 1.3900363701623208], [3.237972893557164, [3, 2, 1], 81.04409126401599, 1.37767291511028], [3.642179397873226, [2, 2, 4], 88.45237685755869, 1.2833539122639726], [1.2679213161498653, [4, 0, 0], 90.16601200010382, 1.2640750123914888], [4.4646174606621685, [2, 1, 5], 92.87700303344768, 1.2352837877661595], [2.033175620812357, [3, 2, 3], 94.59416225123609, 1.2180627366459382], [4.186502427654567, [4, 1, 1], 95.45419806311557, 1.2097179760209138], [1.3105384073008643, [3, 1, 4], 95.64441429902686, 1.207896920223384], [0.7038983861703603, [4, 0, 2], 96.93731186641523, 1.1957497054763306], [1.93138557089221, [1, 1, 6], 100.7389710578679, 1.16224437641006], [2.6055861977648616, [3, 3, 2], 104.2495389160578, 1.134009609820211], [3.2119389581112894, [4, 2, 0], 104.69193655469067, 1.1306230625465032], [0.8854100826309664, [3, 0, 5], 107.51265495479278, 1.1098809811187687], [0.5056297822186869, [2, 0, 6], 108.16153546757884, 1.1053105902433724], [0.7731283831692704, [4, 1, 3], 109.31865856447355, 1.097339896028198], [0.010488955425408158, [4, 2, 2], 111.80862957070251, 1.0809409986355194], [1.214913300822331, [4, 0, 4], 118.32295273922018, 1.0425272776217407], [1.817042636622565, [1, 0, 7], 120.44977511081416, 1.0312780469397447], [2.0166233951335593, [3, 2, 5], 123.47965190231453, 1.0162615971735387], [2.2561043946166857, [5, 0, 1], 126.61954732313914, 1.0018825702656968], [0.006459360978732545, [5, 1, 0], 129.02860909881457, 0.9916220238198834], [4.250180090399444, [3, 1, 6], 133.45492024797016, 0.9744122235058019], [1.6366105671439726, [4, 2, 4], 136.48259675047632, 0.9637974194732799], [5.042468717772914, [5, 1, 2], 138.3824092690095, 0.9575926648580689], [1.218050870448732, [2, 1, 7], 139.24493139772036, 0.9548882505506321], [1.2338215677937472, [4, 1, 5], 143.35655636475107, 0.9429305741489018], [6.556101462510505, [5, 0, 3], 146.33267976539247, 0.93520392592251], [7.01651260451828, [5, 2, 1], 147.91091044037844, 0.9314111559857838], [2.5277049530148856, [0, 0, 8], 152.3963120136695, 0.9217438773595675]]}}, None, {'GGA': {'task_id': 'mp-655516'}}, None, None, {'tags': ['Silicon dioxide', 'Silicon oxide', 'Cristobalite beta']}, None, {'G_Reuss': 32.0, 'G_VRH': 34.0, 'G_Voigt': 37.0, 'G_Voigt_Reuss_Hill': 34.0, 'K_Reuss': 26.0, 'K_VRH': 27.0, 'K_Voigt': 29.0, 'K_Voigt_Reuss_Hill': 27.0, 'elastic_anisotropy': 0.86, 'elastic_tensor': [[91.0, -38.0, 17.0, 0.0, 0.0, 0.0], [-38.0, 91.0, 17.0, 0.0, 0.0, 0.0], [17.0, 17.0, 86.0, 0.0, 0.0, 0.0], [0.0, 0.0, 0.0, 32.0, 0.0, 0.0], [0.0, 0.0, 0.0, 0.0, 32.0, 0.0], [0.0, 0.0, 0.0, 0.0, 0.0, 30.0]], 'homogeneous_poisson': 0.06, 'poisson_ratio': 0.06, 'universal_anisotropy': 0.86, 'elastic_tensor_original': [[91.20978053601698, -37.72413000560153, 19.319911320055816, 0.0, 0.0, 0.0], [-37.92987903108265, 91.35007557673609, 19.271159227260735, 0.0, 0.0, 0.0], [15.125369111160174, 15.125369111160174, 85.61256491670275, 0.0, 0.0, 0.0], [0.1477369604481241, 0.5879833920510485, 0.23964331576563985, 31.32864428426897, 0.0, 0.0], [-0.021019584833396002, 0.02193269142042326, 0.0016473665229868304, 0.0, 32.04963661138602, 0.0], [5.462165719891639e-05, -6.706998837417801e-05, 1.1783331290846919e-06, 0.0, 0.0, 29.98144005985382]], 'compliance_tensor': [[14.61773216661308, 6.8722147102110736, -4.320063342347535, 0.0, 7.792447333048976e-19, -6.168117654410834e-24], [6.8722147102110736, 14.61773216661308, -4.320063342347535, 0.0, 4.0824099421914287e-19, 1.579511291031233e-22], [-4.320063342347536, -4.320063342347536, 13.41742871926497, 0.0, -2.5370317355754085e-19, -3.0512510222063525e-23], [0.0, 0.0, 0.0, 31.556551735645346, 0.0, 0.0], [7.792447333048976e-19, 4.0824099421914287e-19, -2.5370317355754085e-19, 0.0, 31.556551735645346, 2.6300589548339237e-43], [-6.1681176544108385e-24, 1.579511291031233e-22, -3.051251022206353e-23, 0.0, 2.6300589548339186e-43, 33.35396825514845]], 'warnings': [], 'nsites': 6}, {'eij_max': 0.15535999999999997, 'piezoelectric_tensor': [[0.0, 0.0, 0.0, -0.03425499999999999, 0.0, 0.0], [0.0, 0.0, 0.0, 0.0, -0.03425499999999999, 0.0], [0.0, 0.0, 0.0, 0.0, 0.0, -0.15535999999999997]], 'v_max': [0.0, 0.0, 1.0]}, {'e_electronic': [[2.183609, 0.0, 0.0], [0.0, 2.183609, -2.632076720690451e-19], [0.0, -2.632076720690451e-19, 2.1857900000000003]], 'e_total': [[3.8335779999999997, 0.0, 0.0], [0.0, 3.8335779999999997, -1.9625323994437564e-17], [0.0, -1.9625323994437564e-17, 3.9961979999999997]], 'n': 1.4779499314929447, 'poly_electronic': 2.184336, 'poly_total': 3.8877846666666662}, None, '10.17188/1267252', '@misc{osti_1267252,\\n    author = \"Persson, Kristin\",\\n    title = \"Materials Data on SiO2 (SG:122) by Materials Project\",\\n    abstractNote = \"Computed materials data using density functional theory calculations. These calculations determine the electronic structure of bulk materials by solving approximations to the Schrodinger equation. For more information, see https://materialsproject.org/docs/calculations\",\\n    doi = \"10.17188/1267252\",\\n    place = \"United States\",\\n    year = \"2014\",\\n    month = \"7\",\\n    note = \"An optional note\"\\n}\\n', None, [{'e_above_hull': 0, 'id': 'core'}]])"
            ]
          },
          "metadata": {
            "tags": []
          },
          "execution_count": 81
        }
      ]
    },
    {
      "cell_type": "markdown",
      "metadata": {
        "id": "4WfDI4l_QHDT",
        "colab_type": "text"
      },
      "source": [
        "なお、materialas IDは、get_materials_ids関数を使っても取得できる(プログラムで完結させるならこちらの方法が良いか)。この場合、関数の引数として化学式をstr型で指定する。"
      ]
    },
    {
      "cell_type": "code",
      "metadata": {
        "id": "2q2GACX2Pg1E",
        "colab_type": "code",
        "colab": {
          "base_uri": "https://localhost:8080/",
          "height": 34
        },
        "outputId": "04a19d72-cff4-499a-f4e9-b23ac504f804"
      },
      "source": [
        "sio2_ids = mp_rester.get_materials_ids('SiO2')\n",
        "sio2_ids[:5]"
      ],
      "execution_count": 19,
      "outputs": [
        {
          "output_type": "execute_result",
          "data": {
            "text/plain": [
              "['mp-557465', 'mp-600005', 'mp-640917', 'mp-9258', 'mp-669426']"
            ]
          },
          "metadata": {
            "tags": []
          },
          "execution_count": 19
        }
      ]
    },
    {
      "cell_type": "markdown",
      "metadata": {
        "id": "6SzqUkNoQzxc",
        "colab_type": "text"
      },
      "source": [
        "Materials APIで用意されている材料情報(property)は、supported_propertiesで確認できる。"
      ]
    },
    {
      "cell_type": "code",
      "metadata": {
        "id": "ULLc1sRyQ9GS",
        "colab_type": "code",
        "colab": {
          "base_uri": "https://localhost:8080/",
          "height": 442
        },
        "outputId": "ac0c8223-76a8-43b0-d7da-eea7b1b71d5c"
      },
      "source": [
        "mp_rester.supported_properties"
      ],
      "execution_count": 20,
      "outputs": [
        {
          "output_type": "execute_result",
          "data": {
            "text/plain": [
              "('energy',\n",
              " 'energy_per_atom',\n",
              " 'volume',\n",
              " 'formation_energy_per_atom',\n",
              " 'nsites',\n",
              " 'unit_cell_formula',\n",
              " 'pretty_formula',\n",
              " 'is_hubbard',\n",
              " 'elements',\n",
              " 'nelements',\n",
              " 'e_above_hull',\n",
              " 'hubbards',\n",
              " 'is_compatible',\n",
              " 'spacegroup',\n",
              " 'task_ids',\n",
              " 'band_gap',\n",
              " 'density',\n",
              " 'icsd_id',\n",
              " 'icsd_ids',\n",
              " 'cif',\n",
              " 'total_magnetization',\n",
              " 'material_id',\n",
              " 'oxide_type',\n",
              " 'tags',\n",
              " 'elasticity')"
            ]
          },
          "metadata": {
            "tags": []
          },
          "execution_count": 20
        }
      ]
    },
    {
      "cell_type": "code",
      "metadata": {
        "id": "v8fp4kTYRIi7",
        "colab_type": "code",
        "colab": {
          "base_uri": "https://localhost:8080/",
          "height": 34
        },
        "outputId": "a24f270c-9a3c-4885-ba7c-2429e81608de"
      },
      "source": [
        "len(mp_rester.supported_properties)"
      ],
      "execution_count": 23,
      "outputs": [
        {
          "output_type": "execute_result",
          "data": {
            "text/plain": [
              "25"
            ]
          },
          "metadata": {
            "tags": []
          },
          "execution_count": 23
        }
      ]
    },
    {
      "cell_type": "markdown",
      "metadata": {
        "id": "O6J6qLw5RuQI",
        "colab_type": "text"
      },
      "source": [
        "全部で25項目あるようだ。\n",
        "\n",
        "次に、query関数を使ってデータを取得してみよう。query関数は二つの必須パラメータを持つ。\n",
        "\n",
        "* criteria\n",
        "* properties\n",
        "\n",
        "Matarials APIでは、criteriaというMongo DBのフォーマットにしたがって、条件を指定する必要がある。また、propertiesに抽出したい特徴量を指定する。\n",
        "\n",
        "ここでは、criteriaとして、SiO2という化学式を指定しよう。また、propertiesとして、\"band_gap\", \"volume\"の２つの特徴量を指定してみよう。"
      ]
    },
    {
      "cell_type": "code",
      "metadata": {
        "id": "WuRE4qLIUUta",
        "colab_type": "code",
        "colab": {}
      },
      "source": [
        "properties = [\"band_gap\", \"volume\"]\n",
        "criteria = {\"pretty_formula\": \"SiO2\"}\n",
        "\n",
        "sio2_data = mp_rester.query(criteria=criteria, properties=properties)"
      ],
      "execution_count": 0,
      "outputs": []
    },
    {
      "cell_type": "markdown",
      "metadata": {
        "id": "sJSe3_v0WBq_",
        "colab_type": "text"
      },
      "source": [
        "何このデータが取れただろうか"
      ]
    },
    {
      "cell_type": "code",
      "metadata": {
        "id": "Fl76T5_SV6-3",
        "colab_type": "code",
        "colab": {
          "base_uri": "https://localhost:8080/",
          "height": 34
        },
        "outputId": "e1df323d-10d2-42c7-c756-5a604c27aa57"
      },
      "source": [
        "len(sio2_data)"
      ],
      "execution_count": 37,
      "outputs": [
        {
          "output_type": "execute_result",
          "data": {
            "text/plain": [
              "314"
            ]
          },
          "metadata": {
            "tags": []
          },
          "execution_count": 37
        }
      ]
    },
    {
      "cell_type": "markdown",
      "metadata": {
        "id": "dHrtV_g3WFB2",
        "colab_type": "text"
      },
      "source": [
        "dataの中身を見てみよう。"
      ]
    },
    {
      "cell_type": "code",
      "metadata": {
        "id": "5IcJkd-rWHKv",
        "colab_type": "code",
        "colab": {
          "base_uri": "https://localhost:8080/",
          "height": 102
        },
        "outputId": "e1f630c7-cc3b-4858-a4dd-50f9f17acd4c"
      },
      "source": [
        "sio2_data[:5]"
      ],
      "execution_count": 38,
      "outputs": [
        {
          "output_type": "execute_result",
          "data": {
            "text/plain": [
              "[{'band_gap': 5.522, 'volume': 334.1116997448404},\n",
              " {'band_gap': 5.4398, 'volume': 992.5364057908766},\n",
              " {'band_gap': 0.6611999999999996, 'volume': 131.53069589914233},\n",
              " {'band_gap': 4.0015, 'volume': 90.39379466514217},\n",
              " {'band_gap': 5.6183000000000005, 'volume': 339.8621053532599}]"
            ]
          },
          "metadata": {
            "tags": []
          },
          "execution_count": 38
        }
      ]
    },
    {
      "cell_type": "markdown",
      "metadata": {
        "id": "hkENZlc-YKw3",
        "colab_type": "text"
      },
      "source": [
        "同様に、アルミナ(Al2O3)のデータも取得してみよう。"
      ]
    },
    {
      "cell_type": "code",
      "metadata": {
        "id": "gd3o0D0uWeR5",
        "colab_type": "code",
        "colab": {}
      },
      "source": [
        "criteria = {\"pretty_formula\": \"Al2O3\"}\n",
        "\n",
        "al2o3_data = mp_rester.query(criteria=criteria, properties=properties)"
      ],
      "execution_count": 0,
      "outputs": []
    },
    {
      "cell_type": "code",
      "metadata": {
        "id": "uwEp0cABWskC",
        "colab_type": "code",
        "colab": {
          "base_uri": "https://localhost:8080/",
          "height": 34
        },
        "outputId": "99403dfb-30ba-4bcb-d689-066bece51ad9"
      },
      "source": [
        "len(al2o3_data)"
      ],
      "execution_count": 40,
      "outputs": [
        {
          "output_type": "execute_result",
          "data": {
            "text/plain": [
              "78"
            ]
          },
          "metadata": {
            "tags": []
          },
          "execution_count": 40
        }
      ]
    },
    {
      "cell_type": "code",
      "metadata": {
        "id": "4mq0EMhiWye4",
        "colab_type": "code",
        "colab": {
          "base_uri": "https://localhost:8080/",
          "height": 102
        },
        "outputId": "43805615-e6fa-402e-f28c-de3dcd879b9c"
      },
      "source": [
        "al2o3_data[:5]"
      ],
      "execution_count": 41,
      "outputs": [
        {
          "output_type": "execute_result",
          "data": {
            "text/plain": [
              "[{'band_gap': 3.2885999999999997, 'volume': 1071.7336492231386},\n",
              " {'band_gap': 3.3923999999999994, 'volume': 1098.225045907968},\n",
              " {'band_gap': 3.2518000000000002, 'volume': 1156.5816295096818},\n",
              " {'band_gap': 4.8274, 'volume': 370.3349134610843},\n",
              " {'band_gap': 3.7681999999999993, 'volume': 378.7209302897658}]"
            ]
          },
          "metadata": {
            "tags": []
          },
          "execution_count": 41
        }
      ]
    },
    {
      "cell_type": "markdown",
      "metadata": {
        "id": "HV5XP98za9ZI",
        "colab_type": "text"
      },
      "source": [
        "いずれも、一つのデータが辞書形式で保存されていて、その辞書の配列が返ってきている。\n",
        "\n",
        "機械学習のデータとして扱いやすくするために、データ数×特徴量数の形式に変換しよう。つまり、ケイ酸の場合は、314×2の行列、アルミナの場合は74×２の行列に変換する。"
      ]
    },
    {
      "cell_type": "code",
      "metadata": {
        "id": "_6DtnMBBb4V1",
        "colab_type": "code",
        "colab": {
          "base_uri": "https://localhost:8080/",
          "height": 34
        },
        "outputId": "397a4954-95be-4399-aaf6-8ad1c2d1c0d6"
      },
      "source": [
        "import numpy as np\n",
        "\n",
        "sio2_list = list(map(lambda item: [item['band_gap'], item['volume']], sio2_data))\n",
        "sio2_matrix = np.reshape(sio2_list, (len(sio2_list), 2))\n",
        "sio2_matrix.shape"
      ],
      "execution_count": 61,
      "outputs": [
        {
          "output_type": "execute_result",
          "data": {
            "text/plain": [
              "(314, 2)"
            ]
          },
          "metadata": {
            "tags": []
          },
          "execution_count": 61
        }
      ]
    },
    {
      "cell_type": "code",
      "metadata": {
        "id": "baCtowncg5LY",
        "colab_type": "code",
        "colab": {
          "base_uri": "https://localhost:8080/",
          "height": 102
        },
        "outputId": "c0dc7eb3-3a75-496b-88cd-b12147943d0d"
      },
      "source": [
        "sio2_matrix[:5, :]"
      ],
      "execution_count": 63,
      "outputs": [
        {
          "output_type": "execute_result",
          "data": {
            "text/plain": [
              "array([[5.52200000e+00, 3.34111700e+02],\n",
              "       [5.43980000e+00, 9.92536406e+02],\n",
              "       [6.61200000e-01, 1.31530696e+02],\n",
              "       [4.00150000e+00, 9.03937947e+01],\n",
              "       [5.61830000e+00, 3.39862105e+02]])"
            ]
          },
          "metadata": {
            "tags": []
          },
          "execution_count": 63
        }
      ]
    },
    {
      "cell_type": "code",
      "metadata": {
        "id": "RvdgMYH6fBqz",
        "colab_type": "code",
        "colab": {
          "base_uri": "https://localhost:8080/",
          "height": 34
        },
        "outputId": "8121595e-f777-4461-a689-7250b29b1b64"
      },
      "source": [
        "al2o3_list = list(map(lambda item: [item['band_gap'], item['volume']], al2o3_data))\n",
        "al2o3_matrix = np.reshape(al2o3_list, (len(al2o3_list), 2))\n",
        "al2o3_matrix.shape"
      ],
      "execution_count": 62,
      "outputs": [
        {
          "output_type": "execute_result",
          "data": {
            "text/plain": [
              "(78, 2)"
            ]
          },
          "metadata": {
            "tags": []
          },
          "execution_count": 62
        }
      ]
    },
    {
      "cell_type": "code",
      "metadata": {
        "id": "_wBFZvTdg9Q2",
        "colab_type": "code",
        "colab": {
          "base_uri": "https://localhost:8080/",
          "height": 102
        },
        "outputId": "802efb91-fa08-4fa0-a92d-4ddc0a42cdab"
      },
      "source": [
        "al2o3_matrix[:5, :]"
      ],
      "execution_count": 64,
      "outputs": [
        {
          "output_type": "execute_result",
          "data": {
            "text/plain": [
              "array([[   3.2886    , 1071.73364922],\n",
              "       [   3.3924    , 1098.22504591],\n",
              "       [   3.2518    , 1156.58162951],\n",
              "       [   4.8274    ,  370.33491346],\n",
              "       [   3.7682    ,  378.72093029]])"
            ]
          },
          "metadata": {
            "tags": []
          },
          "execution_count": 64
        }
      ]
    },
    {
      "cell_type": "markdown",
      "metadata": {
        "id": "m50_8YhEYZUk",
        "colab_type": "text"
      },
      "source": [
        "それぞれのデータの分布を見てみる。\n",
        "\n"
      ]
    },
    {
      "cell_type": "code",
      "metadata": {
        "id": "m5okeGCMZVtH",
        "colab_type": "code",
        "colab": {
          "base_uri": "https://localhost:8080/",
          "height": 225
        },
        "outputId": "38a8c0fb-fd33-41fe-f72b-1dae833ad799"
      },
      "source": [
        "import matplotlib.pyplot as plt\n",
        "\n",
        "f, (ax1, ax2, ax3) = plt.subplots(1, 3, figsize=(10,3))\n",
        "\n",
        "ax1.scatter(sio2_matrix[:, 0], sio2_matrix[:, 1], marker='o')\n",
        "ax1.set_xlabel('band_gap')\n",
        "ax1.set_ylabel('volume')\n",
        "ax1.set_title('$SiO_2$')\n",
        "\n",
        "ax2.scatter(al2o3_matrix[:, 0], al2o3_matrix[:, 1], marker='o')\n",
        "ax2.set_xlabel('band_gap')\n",
        "ax2.set_ylabel('volume')\n",
        "ax2.set_title('$Al_2O_3$')\n",
        "\n",
        "ax3.scatter(sio2_matrix[:, 0], sio2_matrix[:, 1], marker='o', c='lightgreen', label='$SiO_2$')\n",
        "ax3.scatter(al2o3_matrix[:, 0], al2o3_matrix[:, 1], marker='s', c='orange', label='$Al_2O_3$')\n",
        "ax3.set_xlabel('band_gap')\n",
        "ax3.set_ylabel('volume')\n",
        "ax3.set_title('$SiO_2$ & $Al_2O_3$')\n",
        "\n",
        "plt.legend()\n",
        "plt.tight_layout()\n",
        "plt.show()"
      ],
      "execution_count": 80,
      "outputs": [
        {
          "output_type": "display_data",
          "data": {
            "image/png": "[encoded data removed]",
            "text/plain": [
              "<Figure size 720x216 with 3 Axes>"
            ]
          },
          "metadata": {
            "tags": [],
            "needs_background": "light"
          }
        }
      ]
    },
    {
      "cell_type": "markdown",
      "metadata": {
        "id": "HSLlzcbUhrn9",
        "colab_type": "text"
      },
      "source": [
        "oh,... この分布ではクラスタリングはうまくいかなそうだ。$SiO_2$の分布に$Al_2O_3$の分布が被ってしまっている。\n",
        "\n",
        "試しに、やるだけやってみよう。\n",
        "\n",
        "まず、クラスタリング対象のデータを作成する。データの結合方向には、vstack関数を使う。"
      ]
    },
    {
      "cell_type": "code",
      "metadata": {
        "id": "pGWNuvDRhsx_",
        "colab_type": "code",
        "colab": {
          "base_uri": "https://localhost:8080/",
          "height": 34
        },
        "outputId": "984b7dd1-2ea1-4d95-9787-51c41af5dfbf"
      },
      "source": [
        "X = np.vstack((sio2_matrix, al2o3_matrix))\n",
        "X.shape"
      ],
      "execution_count": 69,
      "outputs": [
        {
          "output_type": "execute_result",
          "data": {
            "text/plain": [
              "(392, 2)"
            ]
          },
          "metadata": {
            "tags": []
          },
          "execution_count": 69
        }
      ]
    },
    {
      "cell_type": "markdown",
      "metadata": {
        "id": "iug0hDcHiq9D",
        "colab_type": "text"
      },
      "source": [
        "k-means++を試す。"
      ]
    },
    {
      "cell_type": "code",
      "metadata": {
        "id": "bcBo6B4DiV4N",
        "colab_type": "code",
        "colab": {}
      },
      "source": [
        "from sklearn.cluster import KMeans\n",
        "\n",
        "kmeans = KMeans(n_clusters=2, init='k-means++', n_init=10, max_iter=300, tol=1e-04, random_state=0)\n",
        "\n",
        "y_kmeans = kmeans.fit_predict(X)"
      ],
      "execution_count": 0,
      "outputs": []
    },
    {
      "cell_type": "markdown",
      "metadata": {
        "id": "5WG2MHQHj2ki",
        "colab_type": "text"
      },
      "source": [
        "結果を描画してみよう。"
      ]
    },
    {
      "cell_type": "code",
      "metadata": {
        "id": "PY2Y-PmvjWb_",
        "colab_type": "code",
        "colab": {
          "base_uri": "https://localhost:8080/",
          "height": 297
        },
        "outputId": "27400c71-1aee-4df9-d5d7-f909d969ad0d"
      },
      "source": [
        "plt.scatter(X[y_kmeans == 0, 0], X[y_kmeans == 0, 1], marker='o', c='lightgreen', label='cluster1')\n",
        "plt.scatter(X[y_kmeans == 1, 0], X[y_kmeans == 1, 1], marker='s', c='orange', label='cluster2')\n",
        "plt.scatter(kmeans.cluster_centers_[:, 0], kmeans.cluster_centers_[:, 1], c='red', marker='*', label='centroids')\n",
        "plt.tight_layout()\n",
        "plt.show()"
      ],
      "execution_count": 75,
      "outputs": [
        {
          "output_type": "display_data",
          "data": {
            "image/png": "[encoded data removed]",
            "text/plain": [
              "<Figure size 432x288 with 1 Axes>"
            ]
          },
          "metadata": {
            "tags": [],
            "needs_background": "light"
          }
        }
      ]
    },
    {
      "cell_type": "markdown",
      "metadata": {
        "id": "QdPW6bq4m-z8",
        "colab_type": "text"
      },
      "source": [
        "ですよねー。$SiO_2$の上と下で分かれている。\n",
        "\n",
        "ということで、特徴量の選択をやり直したほうがよさそうだ。\n",
        "\n",
        "Materials Projectで使えるプロパティの説明は、[公式サイト](https://materialsproject.org/docs/api)に書いてある。\n",
        "\n",
        "肉眼でひたすら特徴量の組みを作るのは面倒なので、以下のような感じでやってみよう。\n",
        "\n",
        "1. 二つの特徴量の組み合わせのパターンを列挙\n",
        "2. step1のパターンごとにクラスタリング\n",
        "3. 各クラスタリング結果ごとに、silhouette係数の平均値を計算\n",
        "4. silhouette係数が最も高いパターンを採用！！\n",
        "\n",
        "**step1**"
      ]
    },
    {
      "cell_type": "code",
      "metadata": {
        "id": "VKCGPe3SxO9h",
        "colab_type": "code",
        "colab": {}
      },
      "source": [
        "from itertools import combinations\n",
        "\n",
        "candidate_properties = ['energy', 'energy_per_atom', 'volume', 'density', 'nsites', \n",
        "                        'formation_energy_per_atom', 'e_above_hull', 'band_gap']\n",
        "combinated_properties = combinations(candidate_properties, 2)"
      ],
      "execution_count": 0,
      "outputs": []
    },
    {
      "cell_type": "markdown",
      "metadata": {
        "id": "KuoVrmH5AR9x",
        "colab_type": "text"
      },
      "source": [
        "**step2~step4**"
      ]
    },
    {
      "cell_type": "code",
      "metadata": {
        "id": "L2lotaVAyzZ4",
        "colab_type": "code",
        "colab": {
          "base_uri": "https://localhost:8080/",
          "height": 663
        },
        "outputId": "a75fac12-d8c3-42c1-c3b2-aced7fa739f7"
      },
      "source": [
        "from sklearn.metrics import silhouette_score\n",
        "\n",
        "#各propertyの組み合わせのscore\n",
        "best_properties = { \"prop1\" : \"\", \"prop2\" : \"\", \"score\" : 0 }\n",
        "\n",
        "for prop in combinated_properties:\n",
        "  #Materials Projectからデータを取得\n",
        "  X_sio2 = mp_rester.query(criteria={\"pretty_formula\": \"SiO2\"}, properties=[prop[0], prop[1]])\n",
        "  X_al2o3 = mp_rester.query(criteria={\"pretty_formula\": \"Al2O3\"}, properties=[prop[0], prop[1]])\n",
        "\n",
        "  #入力データを変形\n",
        "  X_sio2 = list(map(lambda item: [item[prop[0]], item[prop[1]]], X_sio2))\n",
        "  X_sio2 = np.reshape(X_sio2, (len(X_sio2), 2))\n",
        "  \n",
        "  X_al2o3 = list(map(lambda item: [item[prop[0]], item[prop[1]]], X_al2o3))\n",
        "  X_al2o3 = np.reshape(X_al2o3, (len(X_al2o3), 2))\n",
        "\n",
        "  #入力データを合体\n",
        "  X = np.vstack((X_sio2, X_al2o3))\n",
        "\n",
        "  #クラスタリング\n",
        "  kmeans = KMeans(n_clusters=2, init='k-means++', n_init=10, max_iter=300, tol=1e-04, random_state=0)\n",
        "  y_kmeans = kmeans.fit_predict(X)\n",
        "\n",
        "  #平均silhouette値を取得\n",
        "  score = silhouette_score(X, y_kmeans, metric='euclidean')\n",
        "  print(\"%s, and %s 's score : %s\" % (prop[0], prop[1], score))\n",
        "  \n",
        "  #scoreの最大の組み合わせを更新\n",
        "  if score > best_properties[\"score\"]:\n",
        "    print(\"update best!\")\n",
        "    best_properties[\"prop1\"] = prop[0]\n",
        "    best_properties[\"prop2\"] = prop[1]\n",
        "    best_properties[\"score\"] = score\n",
        "\n",
        "print('best properties:')\n",
        "best_properties"
      ],
      "execution_count": 231,
      "outputs": [
        {
          "output_type": "stream",
          "text": [
            "energy, and energy_per_atom 's score : 0.6226629417254774\n",
            "update best!\n",
            "energy, and volume 's score : 0.6499584294731149\n",
            "update best!\n",
            "energy, and density 's score : 0.6226468353325867\n",
            "energy, and nsites 's score : 0.622950322970628\n",
            "energy, and formation_energy_per_atom 's score : 0.6226638344648867\n",
            "energy, and e_above_hull 's score : 0.6226637997866993\n",
            "energy, and band_gap 's score : 0.6226102727957354\n",
            "energy_per_atom, and volume 's score : 0.6692786020976151\n",
            "update best!\n",
            "energy_per_atom, and density 's score : 0.647435949072924\n",
            "energy_per_atom, and nsites 's score : 0.6450678174586104\n",
            "energy_per_atom, and formation_energy_per_atom 's score : 0.7519125993399479\n",
            "update best!\n",
            "energy_per_atom, and e_above_hull 's score : 0.6958968881123033\n",
            "energy_per_atom, and band_gap 's score : 0.7667527055164054\n",
            "update best!\n",
            "volume, and density 's score : 0.6692777405555342\n",
            "volume, and nsites 's score : 0.6685821170724754\n",
            "volume, and formation_energy_per_atom 's score : 0.6692787487310472\n",
            "volume, and e_above_hull 's score : 0.6692787477070463\n",
            "volume, and band_gap 's score : 0.6692709568620715\n",
            "density, and nsites 's score : 0.6444691557472102\n",
            "density, and formation_energy_per_atom 's score : 0.6289505325283593\n",
            "density, and e_above_hull 's score : 0.6326753072577196\n",
            "density, and band_gap 's score : 0.6839249789124229\n",
            "nsites, and formation_energy_per_atom 's score : 0.6451107938571434\n",
            "nsites, and e_above_hull 's score : 0.6451092346968653\n",
            "nsites, and band_gap 's score : 0.6424369105677382\n",
            "formation_energy_per_atom, and e_above_hull 's score : 0.8455860088447512\n",
            "update best!\n",
            "formation_energy_per_atom, and band_gap 's score : 0.7638370294825891\n",
            "e_above_hull, and band_gap 's score : 0.7667412767367586\n",
            "best properties:\n"
          ],
          "name": "stdout"
        },
        {
          "output_type": "execute_result",
          "data": {
            "text/plain": [
              "{'prop1': 'formation_energy_per_atom',\n",
              " 'prop2': 'e_above_hull',\n",
              " 'score': 0.8455860088447512}"
            ]
          },
          "metadata": {
            "tags": []
          },
          "execution_count": 231
        }
      ]
    },
    {
      "cell_type": "markdown",
      "metadata": {
        "id": "pW_Ypun_4j3x",
        "colab_type": "text"
      },
      "source": [
        "formation_energy_per_atomとe_above_hullの組み合わせが一番scoreが高くなった。0.84なので、まぁまぁ良さそう。それでは、クラスタリング結果をみてみよう。"
      ]
    },
    {
      "cell_type": "code",
      "metadata": {
        "id": "h2WIlMeG43IB",
        "colab_type": "code",
        "colab": {}
      },
      "source": [
        "property1 = \"formation_energy_per_atom\"\n",
        "property2 = \"e_above_hull\"\n",
        "X_sio2 = mp_rester.query(criteria={\"pretty_formula\": \"SiO2\"}, properties=[property1, property2])\n",
        "X_al2o3 = mp_rester.query(criteria={\"pretty_formula\": \"Al2O3\"}, properties=[property1, property2])\n",
        "\n",
        "#入力データを変形\n",
        "X_sio2 = list(map(lambda item: [item[property1], item[property2]], X_sio2))\n",
        "X_sio2 = np.reshape(X_sio2, (len(X_sio2), 2))\n",
        "  \n",
        "X_al2o3 = list(map(lambda item: [item[property1], item[property2]], X_al2o3))\n",
        "X_al2o3 = np.reshape(X_al2o3, (len(X_al2o3), 2))\n",
        "\n",
        "#入力データを合体\n",
        "X = np.vstack((X_sio2, X_al2o3))"
      ],
      "execution_count": 0,
      "outputs": []
    },
    {
      "cell_type": "code",
      "metadata": {
        "id": "FA0VGxUw5mlZ",
        "colab_type": "code",
        "colab": {
          "base_uri": "https://localhost:8080/",
          "height": 225
        },
        "outputId": "bf3c27f8-11c8-4467-e5a4-3f0120f32c64"
      },
      "source": [
        "f, (ax1, ax2, ax3) = plt.subplots(1, 3, figsize=(10,3))\n",
        "\n",
        "ax1.scatter(X_sio2[:, 0], X_sio2[:, 1], marker='o')\n",
        "ax1.set_xlabel(property1)\n",
        "ax1.set_ylabel(property2)\n",
        "ax1.set_title('$SiO_2$')\n",
        "\n",
        "ax2.scatter(X_al2o3[:, 0], X_al2o3[:, 1], marker='o')\n",
        "ax2.set_xlabel(property1)\n",
        "ax2.set_ylabel(property2)\n",
        "ax2.set_title('$Al_2O_3$')\n",
        "\n",
        "ax3.scatter(X_sio2[:, 0], X_sio2[:, 1], marker='o', c='lightgreen', label='$SiO_2$')\n",
        "ax3.scatter(X_al2o3[:, 0], X_al2o3[:, 1], marker='s', c='orange', label='$Al_2O_3$')\n",
        "ax3.set_xlabel(property1)\n",
        "ax3.set_ylabel(property2)\n",
        "ax3.set_title('$SiO_2$ & $Al_2O_3$')\n",
        "\n",
        "plt.legend()\n",
        "plt.tight_layout()\n",
        "plt.show()"
      ],
      "execution_count": 201,
      "outputs": [
        {
          "output_type": "display_data",
          "data": {
            "image/png": "[encoded data removed]",
            "text/plain": [
              "<Figure size 720x216 with 3 Axes>"
            ]
          },
          "metadata": {
            "tags": [],
            "needs_background": "light"
          }
        }
      ]
    },
    {
      "cell_type": "code",
      "metadata": {
        "id": "6v9WlWnC5kbN",
        "colab_type": "code",
        "colab": {}
      },
      "source": [
        "#クラスタリング\n",
        "kmeans = KMeans(n_clusters=2, init='k-means++', n_init=10, max_iter=300, tol=1e-04, random_state=0)\n",
        "y_kmeans = kmeans.fit_predict(X)"
      ],
      "execution_count": 0,
      "outputs": []
    },
    {
      "cell_type": "code",
      "metadata": {
        "id": "SySH3Q4T56Hm",
        "colab_type": "code",
        "colab": {
          "base_uri": "https://localhost:8080/",
          "height": 297
        },
        "outputId": "32a299d7-f138-48e3-c000-f08ea5ed7ef2"
      },
      "source": [
        "plt.scatter(X[y_kmeans == 0, 0], X[y_kmeans == 0, 1], marker='o', c='lightgreen', label='cluster1')\n",
        "plt.scatter(X[y_kmeans == 1, 0], X[y_kmeans == 1, 1], marker='s', c='orange', label='cluster2')\n",
        "plt.scatter(kmeans.cluster_centers_[:, 0], kmeans.cluster_centers_[:, 1], c='red', marker='*', label='centroids')\n",
        "plt.tight_layout()\n",
        "plt.show()"
      ],
      "execution_count": 202,
      "outputs": [
        {
          "output_type": "display_data",
          "data": {
            "image/png": "[encoded data removed]",
            "text/plain": [
              "<Figure size 432x288 with 1 Axes>"
            ]
          },
          "metadata": {
            "tags": [],
            "needs_background": "light"
          }
        }
      ]
    },
    {
      "cell_type": "markdown",
      "metadata": {
        "id": "Rahw_tuV6ABS",
        "colab_type": "text"
      },
      "source": [
        "お、おう・・・\n",
        "\n",
        "この分布だと、線状のクラスタが構成できるDBSCANのが良さそう。"
      ]
    },
    {
      "cell_type": "code",
      "metadata": {
        "id": "edSvikoO6I-k",
        "colab_type": "code",
        "colab": {}
      },
      "source": [
        "from sklearn.cluster import DBSCAN\n",
        "\n",
        "db = DBSCAN(eps=0.1, min_samples=5, metric='euclidean')\n",
        "y_db = db.fit_predict(X)"
      ],
      "execution_count": 0,
      "outputs": []
    },
    {
      "cell_type": "code",
      "metadata": {
        "id": "hTfm2qNd6lbc",
        "colab_type": "code",
        "colab": {
          "base_uri": "https://localhost:8080/",
          "height": 297
        },
        "outputId": "dbed039d-c7f0-4548-cf34-940d970646c1"
      },
      "source": [
        "plt.scatter(X[y_db == 0, 0], X[y_db == 0, 1], marker='o', c='lightgreen', label='cluster1')\n",
        "plt.scatter(X[y_db == 1, 0], X[y_db == 1, 1], marker='s', c='orange', label='cluster2')\n",
        "plt.tight_layout()\n",
        "plt.show()"
      ],
      "execution_count": 214,
      "outputs": [
        {
          "output_type": "display_data",
          "data": {
            "image/png": "[encoded data removed]",
            "text/plain": [
              "<Figure size 432x288 with 1 Axes>"
            ]
          },
          "metadata": {
            "tags": [],
            "needs_background": "light"
          }
        }
      ]
    },
    {
      "cell_type": "markdown",
      "metadata": {
        "id": "8154NiGh7Num",
        "colab_type": "text"
      },
      "source": [
        "きれいに分離できた！\n",
        "\n",
        "ということで、ケイ酸とアルミナのクラスタリングでは、特徴量formation_energy_per_atomとe_above_hullに対して、DBSCANを行うと良い結果が得られた。\n",
        "\n",
        "あくまで特徴量を二つに限定した場合なので、特徴量を３つ４つと増やすと違う結果になるだろう。\n",
        "\n",
        "思ったのは、**ドメインの知識が欲しい**\n",
        "\n",
        "特徴量を選択する際に、どの化学的な特性に着目すれば良いか、そもそもクラスタリング対象の化合物は特性で区別できるものなのかなど、分からんゴロシだった・・・。今回は組み合わせの数が二つだったから網羅的に探索できたけど、特徴量の数が増えると・・・。化学的な知識があればもっとスムーズに解析できたかもしれない。\n",
        "\n",
        "**しかし分離できるとスッキリする**\n",
        "\n",
        "ちなみに、formation_energy_per_atomとe_above_hullは、同じカテゴリのプロパティで、Thermodynamic propertiesh(熱力学的なプロパティ)に該当するみたい。\n",
        "\n",
        "* formation_energy_per_atom : 単位格子内の原子ごとの形成エネルギー\n",
        "* e_above_hull : 構造における凸包(convex hull)上のエネルギー。熱力学的な安定性を表す。正の値だと、不安定。\n",
        "\n",
        "次回は、化合物よりもより大きな材料のデータを対象に分析してみたい。"
      ]
    }
  ]
}